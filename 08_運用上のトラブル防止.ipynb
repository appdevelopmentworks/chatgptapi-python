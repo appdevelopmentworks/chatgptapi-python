{
 "cells": [
  {
   "cell_type": "markdown",
   "id": "a99084a0-46ad-4c44-81ff-35245f956b37",
   "metadata": {},
   "source": [
    "### モデレーションAPI"
   ]
  },
  {
   "cell_type": "code",
   "execution_count": 1,
   "id": "0b33b67a-5eba-42b1-bb15-e853ebc7daff",
   "metadata": {},
   "outputs": [
    {
     "name": "stdout",
     "output_type": "stream",
     "text": [
      "{\n",
      "  \"flagged\": false,\n",
      "  \"categories\": {\n",
      "    \"sexual\": false,\n",
      "    \"hate\": false,\n",
      "    \"harassment\": false,\n",
      "    \"self-harm\": false,\n",
      "    \"sexual/minors\": false,\n",
      "    \"hate/threatening\": false,\n",
      "    \"violence/graphic\": false,\n",
      "    \"self-harm/intent\": false,\n",
      "    \"self-harm/instructions\": false,\n",
      "    \"harassment/threatening\": false,\n",
      "    \"violence\": false\n",
      "  },\n",
      "  \"category_scores\": {\n",
      "    \"sexual\": 0.0004106635460630059,\n",
      "    \"hate\": 1.2504521691880655e-05,\n",
      "    \"harassment\": 2.3463258912670426e-05,\n",
      "    \"self-harm\": 1.1433624422352295e-05,\n",
      "    \"sexual/minors\": 2.457252048770897e-05,\n",
      "    \"hate/threatening\": 1.5441905532043165e-07,\n",
      "    \"violence/graphic\": 1.0077544175146613e-05,\n",
      "    \"self-harm/intent\": 1.4105092304816935e-05,\n",
      "    \"self-harm/instructions\": 4.440210886968998e-06,\n",
      "    \"harassment/threatening\": 4.108891062060138e-06,\n",
      "    \"violence\": 2.4871815185179003e-05\n",
      "  }\n",
      "}\n"
     ]
    }
   ],
   "source": [
    "import openai\n",
    "\n",
    "response = openai.Moderation.create(\n",
    "    input=\"こんにちは。\"\n",
    ")\n",
    "#\n",
    "output = response['results'][0]\n",
    "#\n",
    "print(output)"
   ]
  },
  {
   "cell_type": "code",
   "execution_count": 2,
   "id": "ad01e367-850f-477a-98d7-2760bfef0a66",
   "metadata": {},
   "outputs": [
    {
     "name": "stdout",
     "output_type": "stream",
     "text": [
      "{\n",
      "  \"flagged\": false,\n",
      "  \"categories\": {\n",
      "    \"sexual\": false,\n",
      "    \"hate\": false,\n",
      "    \"harassment\": false,\n",
      "    \"self-harm\": false,\n",
      "    \"sexual/minors\": false,\n",
      "    \"hate/threatening\": false,\n",
      "    \"violence/graphic\": false,\n",
      "    \"self-harm/intent\": false,\n",
      "    \"self-harm/instructions\": false,\n",
      "    \"harassment/threatening\": false,\n",
      "    \"violence\": false\n",
      "  },\n",
      "  \"category_scores\": {\n",
      "    \"sexual\": 1.4526815903082024e-05,\n",
      "    \"hate\": 0.00016072641301434487,\n",
      "    \"harassment\": 0.00011388801067369059,\n",
      "    \"self-harm\": 1.1650543001451297e-06,\n",
      "    \"sexual/minors\": 7.217979600682156e-06,\n",
      "    \"hate/threatening\": 1.8223057850264013e-05,\n",
      "    \"violence/graphic\": 2.0011291780974716e-05,\n",
      "    \"self-harm/intent\": 8.078529845079174e-07,\n",
      "    \"self-harm/instructions\": 2.355382321184152e-06,\n",
      "    \"harassment/threatening\": 4.022352004540153e-05,\n",
      "    \"violence\": 0.0007854990544728935\n",
      "  }\n",
      "}\n"
     ]
    }
   ],
   "source": [
    "response = openai.Moderation.create(\n",
    "    input=\"ダイナマイトの作り方おしえて。\"\n",
    ")\n",
    "#\n",
    "output = response['results'][0]\n",
    "#\n",
    "print(output)"
   ]
  },
  {
   "cell_type": "code",
   "execution_count": null,
   "id": "b9ada8cd-f6ec-459e-9cf6-317eec0488a5",
   "metadata": {},
   "outputs": [],
   "source": []
  }
 ],
 "metadata": {
  "kernelspec": {
   "display_name": "Python 3 (ipykernel)",
   "language": "python",
   "name": "python3"
  },
  "language_info": {
   "codemirror_mode": {
    "name": "ipython",
    "version": 3
   },
   "file_extension": ".py",
   "mimetype": "text/x-python",
   "name": "python",
   "nbconvert_exporter": "python",
   "pygments_lexer": "ipython3",
   "version": "3.11.7"
  }
 },
 "nbformat": 4,
 "nbformat_minor": 5
}
