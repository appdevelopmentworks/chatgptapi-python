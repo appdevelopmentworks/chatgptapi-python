{
 "cells": [
  {
   "cell_type": "code",
   "execution_count": 5,
   "id": "031df76f-294a-449b-b58d-9f48afc24327",
   "metadata": {},
   "outputs": [
    {
     "name": "stdout",
     "output_type": "stream",
     "text": [
      "Collecting groq\n",
      "  Downloading groq-0.5.0-py3-none-any.whl.metadata (12 kB)\n",
      "Requirement already satisfied: anyio<5,>=3.5.0 in c:\\users\\hartm\\anaconda3\\lib\\site-packages (from groq) (4.2.0)\n",
      "Requirement already satisfied: distro<2,>=1.7.0 in c:\\users\\hartm\\anaconda3\\lib\\site-packages (from groq) (1.8.0)\n",
      "Requirement already satisfied: httpx<1,>=0.23.0 in c:\\users\\hartm\\anaconda3\\lib\\site-packages (from groq) (0.27.0)\n",
      "Requirement already satisfied: pydantic<3,>=1.9.0 in c:\\users\\hartm\\anaconda3\\lib\\site-packages (from groq) (1.10.12)\n",
      "Requirement already satisfied: sniffio in c:\\users\\hartm\\anaconda3\\lib\\site-packages (from groq) (1.3.0)\n",
      "Requirement already satisfied: typing-extensions<5,>=4.7 in c:\\users\\hartm\\anaconda3\\lib\\site-packages (from groq) (4.9.0)\n",
      "Requirement already satisfied: idna>=2.8 in c:\\users\\hartm\\anaconda3\\lib\\site-packages (from anyio<5,>=3.5.0->groq) (3.4)\n",
      "Requirement already satisfied: certifi in c:\\users\\hartm\\anaconda3\\lib\\site-packages (from httpx<1,>=0.23.0->groq) (2024.2.2)\n",
      "Requirement already satisfied: httpcore==1.* in c:\\users\\hartm\\anaconda3\\lib\\site-packages (from httpx<1,>=0.23.0->groq) (1.0.5)\n",
      "Requirement already satisfied: h11<0.15,>=0.13 in c:\\users\\hartm\\anaconda3\\lib\\site-packages (from httpcore==1.*->httpx<1,>=0.23.0->groq) (0.14.0)\n",
      "Downloading groq-0.5.0-py3-none-any.whl (75 kB)\n",
      "   ---------------------------------------- 0.0/75.0 kB ? eta -:--:--\n",
      "   ---------- ----------------------------- 20.5/75.0 kB 330.3 kB/s eta 0:00:01\n",
      "   ---------------------------------------- 75.0/75.0 kB 830.4 kB/s eta 0:00:00\n",
      "Installing collected packages: groq\n",
      "Successfully installed groq-0.5.0\n"
     ]
    }
   ],
   "source": [
    "!pip install groq"
   ]
  },
  {
   "cell_type": "code",
   "execution_count": 2,
   "id": "b9662b67-1150-45ff-8e79-a63eb5353521",
   "metadata": {},
   "outputs": [],
   "source": [
    "import os\n",
    "from pathlib import Path\n",
    "\n",
    "import streamlit as st\n",
    "from dotenv import load_dotenv\n",
    "from groq import Groq"
   ]
  },
  {
   "cell_type": "code",
   "execution_count": null,
   "id": "0a727e21-f589-440f-b767-aec8f0f13ddb",
   "metadata": {},
   "outputs": [],
   "source": [
    "load_dotenv(Path(__file__).parent / \".env\")"
   ]
  },
  {
   "cell_type": "code",
   "execution_count": null,
   "id": "98075003-edc6-4c1c-80f7-a6a3dad690a2",
   "metadata": {},
   "outputs": [],
   "source": [
    "os.getenv('GROQ_API_KEY')"
   ]
  },
  {
   "cell_type": "code",
   "execution_count": 13,
   "id": "4a12a975-87a4-450f-bed2-5a84eb494c5e",
   "metadata": {},
   "outputs": [],
   "source": [
    "class GroqAPI:\n",
    "    def __init__(self, model_name: str):\n",
    "        self.client = Groq(api_key=os.getenv(\"GROQ_API_KEY\"))\n",
    "        self.model_name = model_name\n",
    "\n",
    "    def _response(self, message):\n",
    "        return self.client.chat.completions.create(\n",
    "            model=self.model_name,\n",
    "            messages=message,\n",
    "            temperature=0,\n",
    "            max_tokens=4096,\n",
    "            stream=True,\n",
    "            stop=None,\n",
    "        )\n",
    "\n",
    "    def response_stream(self, message):\n",
    "        for chunk in self._response(message):\n",
    "            if chunk.choices[0].delta.content:\n",
    "                yield chunk.choices[0].delta.content"
   ]
  },
  {
   "cell_type": "code",
   "execution_count": 14,
   "id": "1428e255-5521-4db3-ab18-0988f6868abf",
   "metadata": {},
   "outputs": [],
   "source": [
    "class Message:\n",
    "    system_prompt: str = (\n",
    "        \"\"\"あなたは愉快なAIです。ユーザの入力に全て日本語で返答を生成してください\"\"\"\n",
    "    )\n",
    "\n",
    "    def __init__(self):\n",
    "        if \"messages\" not in st.session_state:\n",
    "            st.session_state.messages = [\n",
    "                {\n",
    "                    \"role\": \"system\",\n",
    "                    \"content\": self.system_prompt,\n",
    "                }\n",
    "            ]\n",
    "\n",
    "    def add(self, role: str, content: str):\n",
    "        st.session_state.messages.append({\"role\": role, \"content\": content})\n",
    "\n",
    "    def display_chat_history(self):\n",
    "        for message in st.session_state.messages:\n",
    "            if message[\"role\"] == \"system\":\n",
    "                continue\n",
    "            with st.chat_message(message[\"role\"]):\n",
    "                st.markdown(message[\"content\"])\n",
    "\n",
    "    def display_stream(self, generater):\n",
    "        with st.chat_message(\"assistant\"):\n",
    "            return st.write_stream(generater)"
   ]
  },
  {
   "cell_type": "code",
   "execution_count": 15,
   "id": "157374b8-182b-4977-9aa6-feeacae4990f",
   "metadata": {},
   "outputs": [],
   "source": [
    "class ModelSelector:\n",
    "    def __init__(self):\n",
    "        self.models = [\"llama3-8b-8192\", \"llama3-70b-8192\"]\n",
    "\n",
    "    def select(self):\n",
    "        with st.sidebar:\n",
    "            st.sidebar.title(\"groq chat\")\n",
    "            return st.selectbox(\"\", self.models)"
   ]
  },
  {
   "cell_type": "code",
   "execution_count": 16,
   "id": "2bd25b0d-c987-4b9a-b3ae-1c11b4796848",
   "metadata": {},
   "outputs": [],
   "source": [
    "def main():\n",
    "    user_input = st.chat_input(\"何か入力してください\")\n",
    "    model = ModelSelector()\n",
    "    selected_model = model.select()\n",
    "\n",
    "    message = Message()\n",
    "\n",
    "    if user_input:\n",
    "        llm = GroqAPI(selected_model)\n",
    "\n",
    "        message.add(\"user\", user_input)\n",
    "        message.display_chat_history()\n",
    "\n",
    "        response = message.display_stream(\n",
    "            generater=llm.response_stream(st.session_state.messages)\n",
    "        )\n",
    "        message.add(\"assistant\", response)"
   ]
  },
  {
   "cell_type": "code",
   "execution_count": null,
   "id": "7db20fa7-443a-40a9-806c-2c346df264d8",
   "metadata": {},
   "outputs": [],
   "source": []
  }
 ],
 "metadata": {
  "kernelspec": {
   "display_name": "Python 3 (ipykernel)",
   "language": "python",
   "name": "python3"
  },
  "language_info": {
   "codemirror_mode": {
    "name": "ipython",
    "version": 3
   },
   "file_extension": ".py",
   "mimetype": "text/x-python",
   "name": "python",
   "nbconvert_exporter": "python",
   "pygments_lexer": "ipython3",
   "version": "3.11.7"
  }
 },
 "nbformat": 4,
 "nbformat_minor": 5
}
