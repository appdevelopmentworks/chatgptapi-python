{
 "cells": [
  {
   "cell_type": "markdown",
   "id": "66571b86-444b-41f0-8c4d-46c1e5d9e947",
   "metadata": {},
   "source": [
    "## Whisperの使い方"
   ]
  },
  {
   "cell_type": "code",
   "execution_count": null,
   "id": "be76c27b-26b9-4aa9-940c-44a8dcb26acf",
   "metadata": {},
   "outputs": [],
   "source": [
    "#本の推奨バージョン、このノートブックのコードは最新でも動作確認完了\n",
    "!pip install openai==0.28"
   ]
  },
  {
   "cell_type": "code",
   "execution_count": null,
   "id": "4778c703-f028-451b-8b07-e6d93a5c8690",
   "metadata": {},
   "outputs": [],
   "source": [
    "#whisper最新バージョンをインストールする方法\n",
    "!pip install git+https://github.com/openai/whisper.git"
   ]
  },
  {
   "cell_type": "code",
   "execution_count": 18,
   "id": "9027b069-d8f5-43e2-a903-5778a40ee4bc",
   "metadata": {},
   "outputs": [
    {
     "name": "stdout",
     "output_type": "stream",
     "text": [
      "Requirement already satisfied: openai-whisper in c:\\users\\hartm\\anaconda3\\lib\\site-packages (20231117)Note: you may need to restart the kernel to use updated packages.\n",
      "\n",
      "Requirement already satisfied: numba in c:\\users\\hartm\\anaconda3\\lib\\site-packages (from openai-whisper) (0.59.0)\n",
      "Requirement already satisfied: numpy in c:\\users\\hartm\\anaconda3\\lib\\site-packages (from openai-whisper) (1.26.4)\n",
      "Requirement already satisfied: torch in c:\\users\\hartm\\anaconda3\\lib\\site-packages (from openai-whisper) (2.3.0)\n",
      "Requirement already satisfied: tqdm in c:\\users\\hartm\\anaconda3\\lib\\site-packages (from openai-whisper) (4.65.0)\n",
      "Requirement already satisfied: more-itertools in c:\\users\\hartm\\anaconda3\\lib\\site-packages (from openai-whisper) (10.1.0)\n",
      "Requirement already satisfied: tiktoken in c:\\users\\hartm\\anaconda3\\lib\\site-packages (from openai-whisper) (0.6.0)\n",
      "Requirement already satisfied: llvmlite<0.43,>=0.42.0dev0 in c:\\users\\hartm\\anaconda3\\lib\\site-packages (from numba->openai-whisper) (0.42.0)\n",
      "Requirement already satisfied: regex>=2022.1.18 in c:\\users\\hartm\\anaconda3\\lib\\site-packages (from tiktoken->openai-whisper) (2023.10.3)\n",
      "Requirement already satisfied: requests>=2.26.0 in c:\\users\\hartm\\anaconda3\\lib\\site-packages (from tiktoken->openai-whisper) (2.31.0)\n",
      "Requirement already satisfied: filelock in c:\\users\\hartm\\anaconda3\\lib\\site-packages (from torch->openai-whisper) (3.13.1)\n",
      "Requirement already satisfied: typing-extensions>=4.8.0 in c:\\users\\hartm\\anaconda3\\lib\\site-packages (from torch->openai-whisper) (4.9.0)\n",
      "Requirement already satisfied: sympy in c:\\users\\hartm\\anaconda3\\lib\\site-packages (from torch->openai-whisper) (1.12)\n",
      "Requirement already satisfied: networkx in c:\\users\\hartm\\anaconda3\\lib\\site-packages (from torch->openai-whisper) (3.1)\n",
      "Requirement already satisfied: jinja2 in c:\\users\\hartm\\anaconda3\\lib\\site-packages (from torch->openai-whisper) (3.1.3)\n",
      "Requirement already satisfied: fsspec in c:\\users\\hartm\\anaconda3\\lib\\site-packages (from torch->openai-whisper) (2023.10.0)\n",
      "Requirement already satisfied: mkl<=2021.4.0,>=2021.1.1 in c:\\users\\hartm\\anaconda3\\lib\\site-packages (from torch->openai-whisper) (2021.4.0)\n",
      "Requirement already satisfied: colorama in c:\\users\\hartm\\appdata\\roaming\\python\\python311\\site-packages (from tqdm->openai-whisper) (0.4.6)\n",
      "Requirement already satisfied: intel-openmp==2021.* in c:\\users\\hartm\\anaconda3\\lib\\site-packages (from mkl<=2021.4.0,>=2021.1.1->torch->openai-whisper) (2021.4.0)\n",
      "Requirement already satisfied: tbb==2021.* in c:\\users\\hartm\\anaconda3\\lib\\site-packages (from mkl<=2021.4.0,>=2021.1.1->torch->openai-whisper) (2021.12.0)\n",
      "Requirement already satisfied: charset-normalizer<4,>=2 in c:\\users\\hartm\\anaconda3\\lib\\site-packages (from requests>=2.26.0->tiktoken->openai-whisper) (2.0.4)\n",
      "Requirement already satisfied: idna<4,>=2.5 in c:\\users\\hartm\\anaconda3\\lib\\site-packages (from requests>=2.26.0->tiktoken->openai-whisper) (3.4)\n",
      "Requirement already satisfied: urllib3<3,>=1.21.1 in c:\\users\\hartm\\anaconda3\\lib\\site-packages (from requests>=2.26.0->tiktoken->openai-whisper) (2.0.7)\n",
      "Requirement already satisfied: certifi>=2017.4.17 in c:\\users\\hartm\\anaconda3\\lib\\site-packages (from requests>=2.26.0->tiktoken->openai-whisper) (2024.2.2)\n",
      "Requirement already satisfied: MarkupSafe>=2.0 in c:\\users\\hartm\\anaconda3\\lib\\site-packages (from jinja2->torch->openai-whisper) (2.1.3)\n",
      "Requirement already satisfied: mpmath>=0.19 in c:\\users\\hartm\\anaconda3\\lib\\site-packages (from sympy->torch->openai-whisper) (1.3.0)\n"
     ]
    }
   ],
   "source": [
    "#whisperのインストール\n",
    "pip install -U openai-whisper"
   ]
  },
  {
   "cell_type": "code",
   "execution_count": 31,
   "id": "9f96fe2e-16d3-4e89-ad8d-3f9ec646c7eb",
   "metadata": {},
   "outputs": [],
   "source": [
    "import openai"
   ]
  },
  {
   "cell_type": "code",
   "execution_count": null,
   "id": "d2077ca2-9ad0-4db6-9c70-ca3fd698696a",
   "metadata": {},
   "outputs": [],
   "source": [
    "#古いやり方、今は使えない(0.28以降だと)\n",
    "file = open(\"sample.wav\", \"rb\")\n",
    "\n",
    "transcript = openai.Audio.transcript(\n",
    "    model=\"whisper-1\",\n",
    "    file=file\n",
    ")\n",
    "\n",
    "print(transcript.text)"
   ]
  },
  {
   "cell_type": "code",
   "execution_count": 43,
   "id": "416ccafc-f860-4f5d-b142-4d7bcd7fe0c8",
   "metadata": {},
   "outputs": [
    {
     "name": "stdout",
     "output_type": "stream",
     "text": [
      "チャットGPTでできないことって言うと 例えばどういうことなんですか? 例えばリアルタイムの情報って どうやって拾ってくればいいんですか? 今で言うとブラウジングがもう 出来上がってるから問題ないんですけど 当時で言うとチャットGPTじゃ難しいですね リング使うしかないですかねとか そういうところですかね 機能を超えたっていうところで言うと リアルタイム性っていうのがあったかもしれないですね 確かにチャットGPTの弱点として 2021年9月までのデータしか持っていないので 最新の情報とかが取れないと 例えば今日の天気とか 昨年末のワールドカップの優勝国とか そういうものは答えられないっていうところで 結構そこがネックになるユースケースっていうものも 結構あったっていう感じなんですね あとはやっぱり画像って 作れないんでしたっけみたいな 画像は作れるって聞いたんですけどみたいな できないですよね チャットGPTはテキスト生成AIですよね そうなんですよ やっぱりアウトプットのイメージとして多いのは 資料作成、画像生成 本当にお客さんに見せる成果物っていう意味では やっぱりそういうのも含んできちゃうんやろうな っていうのは相談聞いててもらいましたね\n"
     ]
    }
   ],
   "source": [
    "import openai\n",
    "#次のように変更すると動いた（最新のopenaiで）\n",
    "file = open(\"sample.wav\", \"rb\")\n",
    "\n",
    "transcript = openai.audio.transcriptions.create(\n",
    "    model=\"whisper-1\",\n",
    "    file=file,\n",
    ")\n",
    "\n",
    "print(transcript.text)"
   ]
  },
  {
   "cell_type": "code",
   "execution_count": 47,
   "id": "56af2b1d-ed77-44cc-8a8f-1cd15f4a277b",
   "metadata": {},
   "outputs": [
    {
     "name": "stdout",
     "output_type": "stream",
     "text": [
      "チャットGPTでできないことって言うと 例えばどういうことなんですか? 例えばリアルタイムの情報って どうやって拾ってくればいいんですか? 今で言うとブラウジングがもう 出来上がってるから問題ないんですけど 当時で言うとチャットGPTじゃ難しいですね リング使うしかないですかねとか そういうところですかね 機能を超えたっていうところで言うと リアルタイム性っていうのがあったかもしれないですね 確かにチャットGPTの弱点として 2021年9月までのデータしか持っていないので 最新の情報とかが取れないと 例えば今日の天気とか 昨年末のワールドカップの優勝国とか そういうものは答えられないっていうところで 結構そこがネックになるユースケースっていうものも 結構あったっていう感じなんですね あとはやっぱり画像って 作れないんでしたっけみたいな 画像は作れるって聞いたんですけどみたいな できないですよね チャットGPTはテキスト生成AIですよね そうなんですよ やっぱりアウトプットのイメージとして多いのは 資料作成、画像生成 本当にお客さんに見せる成果物っていう意味では そういうのも含んできちゃうんやろうな っていうのは相談聞いててもらいましたね\n",
      "\n"
     ]
    }
   ],
   "source": [
    "from openai import OpenAI\n",
    "\n",
    "#OpenAIのインスタンスを作る場合\n",
    "client = OpenAI()\n",
    "\n",
    "audio_file= open(\"sample.mp3\", \"rb\")\n",
    "#出力をテキストで\n",
    "transcript = client.audio.transcriptions.create(\n",
    "    model=\"whisper-1\",\n",
    "    file=audio_file,\n",
    "    response_format=\"text\"\n",
    ")\n",
    "\n",
    "print(transcript)"
   ]
  },
  {
   "cell_type": "code",
   "execution_count": null,
   "id": "ab6b9ad7-3ca8-4776-9c62-aafcdd5c1493",
   "metadata": {},
   "outputs": [],
   "source": [
    "#公式ページから参照したがエラーになる\n",
    "import whisper\n",
    "\n",
    "model = whisper.load_model(\"base\")\n",
    "\n",
    "result = model.transcribe(\"./sample.mp3\")\n",
    "\n",
    "print(result[\"text\"])"
   ]
  },
  {
   "cell_type": "code",
   "execution_count": 48,
   "id": "683d9ab3-2cfb-4576-b318-f5e6f593c252",
   "metadata": {},
   "outputs": [
    {
     "name": "stdout",
     "output_type": "stream",
     "text": [
      "1\n",
      "00:00:00,000 --> 00:00:05,000\n",
      "チャットGPTでできないことって言うと 例えばどういうことなんですか?\n",
      "\n",
      "2\n",
      "00:00:08,000 --> 00:00:14,000\n",
      "例えばリアルタイムの情報って どうやって拾ってくればいいんですか?\n",
      "\n",
      "3\n",
      "00:00:14,000 --> 00:00:19,000\n",
      "今で言うとブラウジングがもう 出来上がってるから問題ないんですけど\n",
      "\n",
      "4\n",
      "00:00:19,000 --> 00:00:23,000\n",
      "当時で言うとチャットGPTじゃ難しいですね\n",
      "\n",
      "5\n",
      "00:00:23,000 --> 00:00:28,000\n",
      "リング使うしかないですかねとか そういうところですかね\n",
      "\n",
      "6\n",
      "00:00:28,000 --> 00:00:35,000\n",
      "機能を超えたっていうところで言うと リアルタイム性っていうのがあったかもしれないですね\n",
      "\n",
      "7\n",
      "00:00:35,000 --> 00:00:41,000\n",
      "確かにチャットGPTの弱点として 2021年9月までのデータしか持っていないので\n",
      "\n",
      "8\n",
      "00:00:41,000 --> 00:00:46,000\n",
      "最新の情報とかが取れないと 例えば今日の天気とか\n",
      "\n",
      "9\n",
      "00:00:46,000 --> 00:00:50,000\n",
      "昨年末のワールドカップの優勝国とか そういうものは答えられないっていうところで\n",
      "\n",
      "10\n",
      "00:00:50,000 --> 00:00:57,000\n",
      "結構そこがネックになるユースケースっていうものも 結構あったっていう感じなんですね\n",
      "\n",
      "11\n",
      "00:00:58,000 --> 00:01:02,000\n",
      "あとはやっぱり画像って 作れないんでしたっけみたいな\n",
      "\n",
      "12\n",
      "00:01:02,000 --> 00:01:08,000\n",
      "画像は作れるって聞いたんですけどみたいな\n",
      "\n",
      "13\n",
      "00:01:08,000 --> 00:01:13,000\n",
      "できないですよね チャットGPTはテキスト生成AIですよね\n",
      "\n",
      "14\n",
      "00:01:13,000 --> 00:01:15,000\n",
      "そうなんですよ\n",
      "\n",
      "15\n",
      "00:01:15,000 --> 00:01:23,000\n",
      "やっぱりアウトプットのイメージとして多いのは 資料作成、画像生成\n",
      "\n",
      "16\n",
      "00:01:23,000 --> 00:01:28,000\n",
      "本当にお客さんに見せる成果物っていう意味では そういうのも含んできちゃうんやろうな\n",
      "\n",
      "17\n",
      "00:01:28,000 --> 00:01:31,000\n",
      "っていうのは相談聞いててもらいましたね\n",
      "\n",
      "\n",
      "\n"
     ]
    }
   ],
   "source": [
    "import openai\n",
    "\n",
    "file = open(\"sample.mp3\", \"rb\")\n",
    "#SRT形式で出力する場合\n",
    "transcript = openai.audio.transcriptions.create(\n",
    "    model=\"whisper-1\",\n",
    "    file=file,\n",
    "    response_format=\"srt\"\n",
    ")\n",
    "\n",
    "print(transcript)"
   ]
  },
  {
   "cell_type": "code",
   "execution_count": 57,
   "id": "05093715-b4db-41a0-9c14-7b6a8a835db0",
   "metadata": {},
   "outputs": [
    {
     "name": "stdout",
     "output_type": "stream",
     "text": [
      "- チャットGPTはリアルタイムの情報を取得できない\n",
      "- 2021年9月以前のデータしか持っておらず、最新の情報を提供できない\n",
      "- 画像生成などのアウトプットには適しておらず、主にテキスト生成に利用される\n"
     ]
    }
   ],
   "source": [
    "import openai\n",
    "\n",
    "#ファイルの読み込み\n",
    "file = open(\"sample.mp3\", \"rb\")\n",
    "#文字起こし\n",
    "transcript = openai.audio.transcriptions.create(\n",
    "    model=\"whisper-1\",\n",
    "    file=file,\n",
    ")\n",
    "\n",
    "#文字起こし結果をGPTに渡して要約\n",
    "summary = openai.chat.completions.create(\n",
    "    model=\"gpt-3.5-turbo\",\n",
    "    messages=[\n",
    "        {\n",
    "            \"role\":\"system\",\n",
    "            \"content\":f\"以下の文章を3行の箇条書きに要約してください:\\n{transcript}\"\n",
    "        }\n",
    "    ]\n",
    ")\n",
    "\n",
    "#表示\n",
    "print(summary.choices[0].message.content)"
   ]
  },
  {
   "cell_type": "code",
   "execution_count": 55,
   "id": "5db0b19e-171e-4873-b7f2-7b29ce4dd561",
   "metadata": {},
   "outputs": [
    {
     "data": {
      "text/plain": [
       "Transcription(text='チャットGPTでできないことって言うと 例えばどういうことなんですか? 例えばリアルタイムの情報って どうやって拾ってくればいいんですか? 今で言うとブラウジングがもう 出来上がってるから問題ないんですけど 当時で言うとチャットGPTじゃ難しいですね リング使うしかないですかねとか そういうところですかね 機能を超えたっていうところで言うと リアルタイム性っていうのがあったかもしれないですね 確かにチャットGPTの弱点として 2021年9月までのデータしか持っていないので 最新の情報とかが取れないと 例えば今日の天気とか 昨年末のワールドカップの優勝国とか そういうものは答えられないっていうところで 結構そこがネックになるユースケースっていうものも 結構あったっていう感じなんですね あとはやっぱり画像って 作れないんでしたっけみたいな 画像は作れるって聞いたんですけどみたいな できないですよね チャットGPTはテキスト生成AIですよね そうなんですよ やっぱりアウトプットのイメージとして多いのは 資料作成、画像生成 本当にお客さんに見せる成果物っていう意味では そういうのも含んできちゃうんやろうな っていうのは相談聞いててもらいましたね')"
      ]
     },
     "execution_count": 55,
     "metadata": {},
     "output_type": "execute_result"
    }
   ],
   "source": [
    "transcript"
   ]
  },
  {
   "cell_type": "code",
   "execution_count": 61,
   "id": "8cf0c08c-828c-4cda-be68-55eda34a904d",
   "metadata": {},
   "outputs": [
    {
     "name": "stdout",
     "output_type": "stream",
     "text": [
      "What do you mean by things that can't be done in chatGPT? For example, how can we get real-time information? Now, the browsing is already done, so there is no problem. But at that time, it was difficult to do in chatGPT. We had no choice but to use Bing. I think there was a problem with real-time. As a weakness of chatGPT, we only have data up to September 2021, so we can't get the latest information. For example, today's weather, or the country that won the World Cup at the end of last year. We can't answer those things. There were quite a few use cases where that was a bottleneck. Also, we couldn't make images. I heard that you can make images in chatGPT. We can't. ChatGPT is a text-generating AI. That's right. As an output image, there are a lot of data creation and image generation. I thought that it would also include the results that are shown to the audience.\n"
     ]
    }
   ],
   "source": [
    "import openai\n",
    "\n",
    "file = open(\"sample.mp3\", \"rb\")\n",
    "#日本語音声ファイルを英訳して文字起こし\n",
    "transcript = openai.audio.translations.create(\n",
    "    model=\"whisper-1\",\n",
    "    file=file,\n",
    ")\n",
    "#表示\n",
    "print(transcript.text)"
   ]
  },
  {
   "cell_type": "code",
   "execution_count": 62,
   "id": "814cf968-e7d4-47ab-b193-de8d5211e061",
   "metadata": {},
   "outputs": [
    {
     "name": "stdout",
     "output_type": "stream",
     "text": [
      "要約結果:\n",
      "- チャットGPTではリアルタイムの情報を拾うことができない\n",
      "- 最新の情報や画像を生成することもできない\n",
      "- 主にテキスト生成AIとして活躍し、資料作成や文章生成などに使用される\n",
      "要約に使用したトークン数:603\n"
     ]
    }
   ],
   "source": [
    "import openai\n",
    "#ファイルを読み込み\n",
    "file = open(\"sample.mp3\", \"rb\")\n",
    "#日本語で書き起こし\n",
    "transcript = openai.audio.transcriptions.create(\n",
    "    model=\"whisper-1\",\n",
    "    file=file,\n",
    ")\n",
    "#書き起こした結果をGPTに渡して要約\n",
    "summary = openai.chat.completions.create(\n",
    "    model=\"gpt-3.5-turbo\",\n",
    "    messages=[\n",
    "        {\n",
    "            \"role\":\"user\",\n",
    "            \"content\":f\"以下の文章を3行の箇条書きに要約してください:\\n{transcript}\"\n",
    "        }\n",
    "    ]\n",
    ")\n",
    "\n",
    "#出力結果と出力トークン数を出力\n",
    "print(f\"要約結果:\\n{summary.choices[0].message.content}\")\n",
    "print(f\"要約に使用したトークン数:{summary.usage.total_tokens}\")"
   ]
  },
  {
   "cell_type": "code",
   "execution_count": null,
   "id": "2b71cafa-7d65-46bf-ab12-f7874794213c",
   "metadata": {},
   "outputs": [],
   "source": []
  }
 ],
 "metadata": {
  "kernelspec": {
   "display_name": "Python 3 (ipykernel)",
   "language": "python",
   "name": "python3"
  },
  "language_info": {
   "codemirror_mode": {
    "name": "ipython",
    "version": 3
   },
   "file_extension": ".py",
   "mimetype": "text/x-python",
   "name": "python",
   "nbconvert_exporter": "python",
   "pygments_lexer": "ipython3",
   "version": "3.11.7"
  }
 },
 "nbformat": 4,
 "nbformat_minor": 5
}
