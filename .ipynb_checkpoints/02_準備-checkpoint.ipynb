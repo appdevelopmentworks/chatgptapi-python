{
 "cells": [
  {
   "cell_type": "markdown",
   "id": "aef9e625-f366-41c4-b8c0-8feaf14ac6aa",
   "metadata": {},
   "source": [
    "# 準備"
   ]
  },
  {
   "cell_type": "markdown",
   "id": "08e44585-b739-4160-a946-1b117d0e66c6",
   "metadata": {},
   "source": [
    "### リンク\n",
    "https://book.impress.co.jp/books/1123101013"
   ]
  },
  {
   "cell_type": "code",
   "execution_count": 1,
   "id": "10b25d24-3184-4c72-a572-d61cf08dddae",
   "metadata": {},
   "outputs": [],
   "source": [
    "import os\n",
    "import openai"
   ]
  },
  {
   "cell_type": "code",
   "execution_count": null,
   "id": "3b55e442-ddc9-4984-a0f6-4bbd9f0b9e41",
   "metadata": {},
   "outputs": [],
   "source": [
    "openai.api_key=os.environ[\"OPENAI_API_KEY\"]"
   ]
  },
  {
   "cell_type": "code",
   "execution_count": 3,
   "id": "847857e4-f877-4434-9816-e905ecb27e42",
   "metadata": {},
   "outputs": [
    {
     "name": "stdout",
     "output_type": "stream",
     "text": [
      "Go言語は2009年にGoogleによって開発されたプログラミング言語です。Goはシンプルで直感的な構文を持ち、コンパイル速度が非常に速いため、大規模なプロジェクトでも効率的に開発できます。また、並行処理をサポートしており、並列処理が必要なアプリケーションの開発にも適しています。\n",
      "\n",
      "Go言語はパフォーマンスと開発効率の両方を重視して設計されており、静的型付け、ガベージコレクション、並行処理、ネットワーキングなどの機能を提供しています。さまざまなプラットフォームで動作し、ウェブアプリケーション、システムプログラミング、クラウドコンピューティングなど幅広い用途に利用されています。\n"
     ]
    }
   ],
   "source": [
    "response = openai.ChatCompletion.create(\n",
    "    model=\"gpt-3.5-turbo\",\n",
    "    messages=[\n",
    "        {\"role\":\"user\",\"content\":\"Go言語について教えてください。\"}\n",
    "    ]\n",
    ")\n",
    "\n",
    "\n",
    "print(response.choices[0][\"message\"][\"content\"])"
   ]
  },
  {
   "cell_type": "code",
   "execution_count": 4,
   "id": "87d157bf-fe11-44f0-ad01-dc85a2260d71",
   "metadata": {},
   "outputs": [
    {
     "name": "stdout",
     "output_type": "stream",
     "text": [
      "だし巻き卵の作り方はとても簡単です。以下に作り方を示します。\n",
      "\n",
      "材料:\n",
      "- 卵 4個\n",
      "- だし 1/2カップ\n",
      "- 砂糖 小さじ1\n",
      "- 塩 小さじ1/2\n",
      "- サラダ油 適量\n",
      "\n",
      "作り方:\n",
      "1. ボウルに卵を割り入れ、だし、砂糖、塩を加えてよく混ぜます。\n",
      "2. フライパンにサラダ油をしき、中火で熱します。\n",
      "3. 混ぜた卵液を少しずつ加え、箸でかき混ぜながら火を通します。\n",
      "4. 半熟状態になったら、巻くようにして優しく巻きます。\n",
      "5. 最後に余った卵液をフライパンに加え、表面を軽く焼いて出来上がりです。\n",
      "\n",
      "お好みで刻みネギや天かすをトッピングしても美味しいです。お好みでだしから出汁を使うことで、風味豊かなだし巻き卵が完成します。\n"
     ]
    }
   ],
   "source": [
    "response = openai.ChatCompletion.create(\n",
    "    model=\"gpt-3.5-turbo\",\n",
    "    messages=[\n",
    "        {\"role\":\"user\",\"content\":\"だし巻き卵の作り方について教えてください。\"}\n",
    "    ]\n",
    ")\n",
    "\n",
    "\n",
    "print(response.choices[0][\"message\"][\"content\"])"
   ]
  },
  {
   "cell_type": "code",
   "execution_count": 5,
   "id": "845765ea-0f6f-469d-a346-a2e12b3988fa",
   "metadata": {},
   "outputs": [
    {
     "name": "stdout",
     "output_type": "stream",
     "text": [
      "糖尿病患者向けには、砂糖の代わりに人工甘味料や自然の甘味料を使用すると良いでしょう。また、卵の黄身と白身の比率を調整して、コレステロール値や脂質摂取量に気をつけることも大切です。\n",
      "\n",
      "以下は糖尿病患者向けのだし巻き卵のアレンジレシピです：\n",
      "\n",
      "**材料：**\n",
      "- 卵 3個\n",
      "- だし汁（砂糖や醤油が入っていないもの） 100ml\n",
      "- 塩 少々\n",
      "- 人工甘味料（ステビアやアスパルテームなど） 適量\n",
      "- サラダ油 適量\n",
      "\n",
      "**作り方：**\n",
      "1. ボウルに卵を割り入れ、よく溶きほぐします。塩を加えて混ぜます。\n",
      "2. 別のボウルにだし汁と人工甘味料を合わせて混ぜます。\n",
      "3. フライパンにサラダ油を熱して、卵液を流し入れます。\n",
      "4. 軽く固まったら竹串や菜箸で巻きながら焼きます。\n",
      "5. 全体がしっかりと巻けたら、だし汁を加えて軽く絡めます。\n",
      "6. 巻き終わったら一度取り出し、冷ましてから食べやすい大きさに切り分けて完成です。\n",
      "\n",
      "糖尿病患者の方は、食事内容や栄養バランスに気をつけることが重要です。ご自身の体調や指導医の意見を踏まえながら、お楽しみください。\n"
     ]
    }
   ],
   "source": [
    "messages=[\n",
    "    {\"role\":\"system\",\"content\":\"あなたは優秀な管理栄養士です。\"},\n",
    "    {\"role\":\"user\",\"content\":\"だし巻き卵の作り方について教えてください\"},\n",
    "    {\"role\":\"assistant\",\"content\":\"だし巻き卵の作り方はとても簡単です。\"},\n",
    "    {\"role\":\"user\",\"content\":\"糖尿病患者向けにアレンジしてください\"}\n",
    "]\n",
    "\n",
    "response = openai.ChatCompletion.create(\n",
    "    model=\"gpt-3.5-turbo\",\n",
    "    messages=messages\n",
    ")\n",
    "\n",
    "\n",
    "print(response.choices[0][\"message\"][\"content\"])"
   ]
  },
  {
   "cell_type": "code",
   "execution_count": null,
   "id": "b02549a9-3b34-4435-b9c5-5e059e322723",
   "metadata": {},
   "outputs": [],
   "source": []
  }
 ],
 "metadata": {
  "kernelspec": {
   "display_name": "Python 3 (ipykernel)",
   "language": "python",
   "name": "python3"
  },
  "language_info": {
   "codemirror_mode": {
    "name": "ipython",
    "version": 3
   },
   "file_extension": ".py",
   "mimetype": "text/x-python",
   "name": "python",
   "nbconvert_exporter": "python",
   "pygments_lexer": "ipython3",
   "version": "3.11.7"
  }
 },
 "nbformat": 4,
 "nbformat_minor": 5
}
