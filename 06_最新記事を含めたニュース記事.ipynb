{
 "cells": [
  {
   "cell_type": "markdown",
   "id": "3d689098-17a8-414d-a623-22dcd5944180",
   "metadata": {},
   "source": [
    "## Langchainインストール"
   ]
  },
  {
   "cell_type": "code",
   "execution_count": 1,
   "id": "a98fd3f4-32e8-4629-9333-f67be3dc84ec",
   "metadata": {},
   "outputs": [
    {
     "name": "stdout",
     "output_type": "stream",
     "text": [
      "Collecting langchain\n",
      "  Using cached langchain-0.1.16-py3-none-any.whl.metadata (13 kB)\n",
      "Requirement already satisfied: PyYAML>=5.3 in c:\\users\\hartm\\anaconda3\\lib\\site-packages (from langchain) (6.0.1)\n",
      "Requirement already satisfied: SQLAlchemy<3,>=1.4 in c:\\users\\hartm\\anaconda3\\lib\\site-packages (from langchain) (2.0.25)\n",
      "Requirement already satisfied: aiohttp<4.0.0,>=3.8.3 in c:\\users\\hartm\\anaconda3\\lib\\site-packages (from langchain) (3.9.3)\n",
      "Collecting dataclasses-json<0.7,>=0.5.7 (from langchain)\n",
      "  Using cached dataclasses_json-0.6.4-py3-none-any.whl.metadata (25 kB)\n",
      "Requirement already satisfied: jsonpatch<2.0,>=1.33 in c:\\users\\hartm\\anaconda3\\lib\\site-packages (from langchain) (1.33)\n",
      "Collecting langchain-community<0.1,>=0.0.32 (from langchain)\n",
      "  Downloading langchain_community-0.0.34-py3-none-any.whl.metadata (8.5 kB)\n",
      "Requirement already satisfied: langchain-core<0.2.0,>=0.1.42 in c:\\users\\hartm\\anaconda3\\lib\\site-packages (from langchain) (0.1.45)\n",
      "Collecting langchain-text-splitters<0.1,>=0.0.1 (from langchain)\n",
      "  Using cached langchain_text_splitters-0.0.1-py3-none-any.whl.metadata (2.0 kB)\n",
      "Requirement already satisfied: langsmith<0.2.0,>=0.1.17 in c:\\users\\hartm\\anaconda3\\lib\\site-packages (from langchain) (0.1.49)\n",
      "Requirement already satisfied: numpy<2,>=1 in c:\\users\\hartm\\anaconda3\\lib\\site-packages (from langchain) (1.26.4)\n",
      "Requirement already satisfied: pydantic<3,>=1 in c:\\users\\hartm\\anaconda3\\lib\\site-packages (from langchain) (1.10.12)\n",
      "Requirement already satisfied: requests<3,>=2 in c:\\users\\hartm\\anaconda3\\lib\\site-packages (from langchain) (2.31.0)\n",
      "Requirement already satisfied: tenacity<9.0.0,>=8.1.0 in c:\\users\\hartm\\anaconda3\\lib\\site-packages (from langchain) (8.2.2)\n",
      "Requirement already satisfied: aiosignal>=1.1.2 in c:\\users\\hartm\\anaconda3\\lib\\site-packages (from aiohttp<4.0.0,>=3.8.3->langchain) (1.2.0)\n",
      "Requirement already satisfied: attrs>=17.3.0 in c:\\users\\hartm\\anaconda3\\lib\\site-packages (from aiohttp<4.0.0,>=3.8.3->langchain) (23.1.0)\n",
      "Requirement already satisfied: frozenlist>=1.1.1 in c:\\users\\hartm\\anaconda3\\lib\\site-packages (from aiohttp<4.0.0,>=3.8.3->langchain) (1.4.0)\n",
      "Requirement already satisfied: multidict<7.0,>=4.5 in c:\\users\\hartm\\anaconda3\\lib\\site-packages (from aiohttp<4.0.0,>=3.8.3->langchain) (6.0.4)\n",
      "Requirement already satisfied: yarl<2.0,>=1.0 in c:\\users\\hartm\\anaconda3\\lib\\site-packages (from aiohttp<4.0.0,>=3.8.3->langchain) (1.9.3)\n",
      "Collecting marshmallow<4.0.0,>=3.18.0 (from dataclasses-json<0.7,>=0.5.7->langchain)\n",
      "  Using cached marshmallow-3.21.1-py3-none-any.whl.metadata (7.2 kB)\n",
      "Collecting typing-inspect<1,>=0.4.0 (from dataclasses-json<0.7,>=0.5.7->langchain)\n",
      "  Using cached typing_inspect-0.9.0-py3-none-any.whl.metadata (1.5 kB)\n",
      "Requirement already satisfied: jsonpointer>=1.9 in c:\\users\\hartm\\anaconda3\\lib\\site-packages (from jsonpatch<2.0,>=1.33->langchain) (2.1)\n",
      "Requirement already satisfied: packaging<24.0,>=23.2 in c:\\users\\hartm\\anaconda3\\lib\\site-packages (from langchain-core<0.2.0,>=0.1.42->langchain) (23.2)\n",
      "Requirement already satisfied: orjson<4.0.0,>=3.9.14 in c:\\users\\hartm\\anaconda3\\lib\\site-packages (from langsmith<0.2.0,>=0.1.17->langchain) (3.10.1)\n",
      "Requirement already satisfied: typing-extensions>=4.2.0 in c:\\users\\hartm\\anaconda3\\lib\\site-packages (from pydantic<3,>=1->langchain) (4.9.0)\n",
      "Requirement already satisfied: charset-normalizer<4,>=2 in c:\\users\\hartm\\anaconda3\\lib\\site-packages (from requests<3,>=2->langchain) (2.0.4)\n",
      "Requirement already satisfied: idna<4,>=2.5 in c:\\users\\hartm\\anaconda3\\lib\\site-packages (from requests<3,>=2->langchain) (3.4)\n",
      "Requirement already satisfied: urllib3<3,>=1.21.1 in c:\\users\\hartm\\anaconda3\\lib\\site-packages (from requests<3,>=2->langchain) (2.0.7)\n",
      "Requirement already satisfied: certifi>=2017.4.17 in c:\\users\\hartm\\anaconda3\\lib\\site-packages (from requests<3,>=2->langchain) (2024.2.2)\n",
      "Requirement already satisfied: greenlet!=0.4.17 in c:\\users\\hartm\\anaconda3\\lib\\site-packages (from SQLAlchemy<3,>=1.4->langchain) (3.0.1)\n",
      "Requirement already satisfied: mypy-extensions>=0.3.0 in c:\\users\\hartm\\anaconda3\\lib\\site-packages (from typing-inspect<1,>=0.4.0->dataclasses-json<0.7,>=0.5.7->langchain) (1.0.0)\n",
      "Using cached langchain-0.1.16-py3-none-any.whl (817 kB)\n",
      "Using cached dataclasses_json-0.6.4-py3-none-any.whl (28 kB)\n",
      "Downloading langchain_community-0.0.34-py3-none-any.whl (1.9 MB)\n",
      "   ---------------------------------------- 0.0/1.9 MB ? eta -:--:--\n",
      "   ---------------------------------------- 0.0/1.9 MB ? eta -:--:--\n",
      "   ---------------------------------------- 0.0/1.9 MB 682.7 kB/s eta 0:00:03\n",
      "    --------------------------------------- 0.0/1.9 MB 393.8 kB/s eta 0:00:05\n",
      "   - -------------------------------------- 0.1/1.9 MB 438.9 kB/s eta 0:00:05\n",
      "   ---- ----------------------------------- 0.2/1.9 MB 1.1 MB/s eta 0:00:02\n",
      "   ---------------------------------------  1.9/1.9 MB 8.2 MB/s eta 0:00:01\n",
      "   ---------------------------------------- 1.9/1.9 MB 7.7 MB/s eta 0:00:00\n",
      "Using cached langchain_text_splitters-0.0.1-py3-none-any.whl (21 kB)\n",
      "Using cached marshmallow-3.21.1-py3-none-any.whl (49 kB)\n",
      "Using cached typing_inspect-0.9.0-py3-none-any.whl (8.8 kB)\n",
      "Installing collected packages: typing-inspect, marshmallow, dataclasses-json, langchain-text-splitters, langchain-community, langchain\n",
      "Successfully installed dataclasses-json-0.6.4 langchain-0.1.16 langchain-community-0.0.34 langchain-text-splitters-0.0.1 marshmallow-3.21.1 typing-inspect-0.9.0\n"
     ]
    }
   ],
   "source": [
    "!pip install langchain"
   ]
  },
  {
   "cell_type": "markdown",
   "id": "9954bf08-c6ca-4007-8132-47cdeda262ba",
   "metadata": {},
   "source": [
    "# googleサーチのAPIクライアントインストール"
   ]
  },
  {
   "cell_type": "code",
   "execution_count": 2,
   "id": "cada0efa-c436-4911-9cc8-09173b282f0d",
   "metadata": {},
   "outputs": [
    {
     "name": "stdout",
     "output_type": "stream",
     "text": [
      "Requirement already satisfied: google-api-python-client in c:\\users\\hartm\\anaconda3\\lib\\site-packages (2.126.0)\n",
      "Requirement already satisfied: httplib2<1.dev0,>=0.19.0 in c:\\users\\hartm\\anaconda3\\lib\\site-packages (from google-api-python-client) (0.22.0)\n",
      "Requirement already satisfied: google-auth!=2.24.0,!=2.25.0,<3.0.0.dev0,>=1.32.0 in c:\\users\\hartm\\anaconda3\\lib\\site-packages (from google-api-python-client) (2.29.0)\n",
      "Requirement already satisfied: google-auth-httplib2<1.0.0,>=0.2.0 in c:\\users\\hartm\\anaconda3\\lib\\site-packages (from google-api-python-client) (0.2.0)\n",
      "Requirement already satisfied: google-api-core!=2.0.*,!=2.1.*,!=2.2.*,!=2.3.0,<3.0.0.dev0,>=1.31.5 in c:\\users\\hartm\\anaconda3\\lib\\site-packages (from google-api-python-client) (2.18.0)\n",
      "Requirement already satisfied: uritemplate<5,>=3.0.1 in c:\\users\\hartm\\anaconda3\\lib\\site-packages (from google-api-python-client) (4.1.1)\n",
      "Requirement already satisfied: googleapis-common-protos<2.0.dev0,>=1.56.2 in c:\\users\\hartm\\anaconda3\\lib\\site-packages (from google-api-core!=2.0.*,!=2.1.*,!=2.2.*,!=2.3.0,<3.0.0.dev0,>=1.31.5->google-api-python-client) (1.63.0)\n",
      "Requirement already satisfied: protobuf!=3.20.0,!=3.20.1,!=4.21.0,!=4.21.1,!=4.21.2,!=4.21.3,!=4.21.4,!=4.21.5,<5.0.0.dev0,>=3.19.5 in c:\\users\\hartm\\anaconda3\\lib\\site-packages (from google-api-core!=2.0.*,!=2.1.*,!=2.2.*,!=2.3.0,<3.0.0.dev0,>=1.31.5->google-api-python-client) (4.25.3)\n",
      "Requirement already satisfied: proto-plus<2.0.0dev,>=1.22.3 in c:\\users\\hartm\\anaconda3\\lib\\site-packages (from google-api-core!=2.0.*,!=2.1.*,!=2.2.*,!=2.3.0,<3.0.0.dev0,>=1.31.5->google-api-python-client) (1.23.0)\n",
      "Requirement already satisfied: requests<3.0.0.dev0,>=2.18.0 in c:\\users\\hartm\\anaconda3\\lib\\site-packages (from google-api-core!=2.0.*,!=2.1.*,!=2.2.*,!=2.3.0,<3.0.0.dev0,>=1.31.5->google-api-python-client) (2.31.0)\n",
      "Requirement already satisfied: cachetools<6.0,>=2.0.0 in c:\\users\\hartm\\anaconda3\\lib\\site-packages (from google-auth!=2.24.0,!=2.25.0,<3.0.0.dev0,>=1.32.0->google-api-python-client) (4.2.2)\n",
      "Requirement already satisfied: pyasn1-modules>=0.2.1 in c:\\users\\hartm\\anaconda3\\lib\\site-packages (from google-auth!=2.24.0,!=2.25.0,<3.0.0.dev0,>=1.32.0->google-api-python-client) (0.2.8)\n",
      "Requirement already satisfied: rsa<5,>=3.1.4 in c:\\users\\hartm\\anaconda3\\lib\\site-packages (from google-auth!=2.24.0,!=2.25.0,<3.0.0.dev0,>=1.32.0->google-api-python-client) (4.9)\n",
      "Requirement already satisfied: pyparsing!=3.0.0,!=3.0.1,!=3.0.2,!=3.0.3,<4,>=2.4.2 in c:\\users\\hartm\\anaconda3\\lib\\site-packages (from httplib2<1.dev0,>=0.19.0->google-api-python-client) (3.0.9)\n",
      "Requirement already satisfied: pyasn1<0.5.0,>=0.4.6 in c:\\users\\hartm\\anaconda3\\lib\\site-packages (from pyasn1-modules>=0.2.1->google-auth!=2.24.0,!=2.25.0,<3.0.0.dev0,>=1.32.0->google-api-python-client) (0.4.8)\n",
      "Requirement already satisfied: charset-normalizer<4,>=2 in c:\\users\\hartm\\anaconda3\\lib\\site-packages (from requests<3.0.0.dev0,>=2.18.0->google-api-core!=2.0.*,!=2.1.*,!=2.2.*,!=2.3.0,<3.0.0.dev0,>=1.31.5->google-api-python-client) (2.0.4)\n",
      "Requirement already satisfied: idna<4,>=2.5 in c:\\users\\hartm\\anaconda3\\lib\\site-packages (from requests<3.0.0.dev0,>=2.18.0->google-api-core!=2.0.*,!=2.1.*,!=2.2.*,!=2.3.0,<3.0.0.dev0,>=1.31.5->google-api-python-client) (3.4)\n",
      "Requirement already satisfied: urllib3<3,>=1.21.1 in c:\\users\\hartm\\anaconda3\\lib\\site-packages (from requests<3.0.0.dev0,>=2.18.0->google-api-core!=2.0.*,!=2.1.*,!=2.2.*,!=2.3.0,<3.0.0.dev0,>=1.31.5->google-api-python-client) (2.0.7)\n",
      "Requirement already satisfied: certifi>=2017.4.17 in c:\\users\\hartm\\anaconda3\\lib\\site-packages (from requests<3.0.0.dev0,>=2.18.0->google-api-core!=2.0.*,!=2.1.*,!=2.2.*,!=2.3.0,<3.0.0.dev0,>=1.31.5->google-api-python-client) (2024.2.2)\n"
     ]
    }
   ],
   "source": [
    "!pip install google-api-python-client"
   ]
  },
  {
   "cell_type": "markdown",
   "id": "ad425a03-ef81-40da-89a2-d09c3616c45b",
   "metadata": {},
   "source": [
    "# Langchain使い方"
   ]
  },
  {
   "cell_type": "code",
   "execution_count": 1,
   "id": "2e950b3a-6375-4a00-af3d-2995cf8bb60c",
   "metadata": {},
   "outputs": [
    {
     "name": "stdout",
     "output_type": "stream",
     "text": [
      "content='Go言語（Golang）は、Googleによって開発されたプログラミング言語です。2007年に開発が始まり、2009年に公開されました。Go言語は静的型付け言語であり、並行処理やネットワークプログラミングなどの高度な機能をサポートしています。\\n\\nGo言語の特徴としては、以下のような点が挙げられます。\\n\\n1. シンプルで直感的な文法：Go言語はシンプルな文法を持っており、初心者でも比較的簡単に学習することができます。\\n\\n2. 高速なコンパイル：Go言語のコンパイラは非常に高速であり、コードの変更をすぐに反映させることができます。\\n\\n3. 厳密な型付け：Go言語は静的型付け言語であり、型の厳密さによってプログラムの安全性を確保することができます。\\n\\n4. 並行処理のサポート：Go言語は軽量なスレッドであるゴルーチン（goroutine）をサポートしており、並行処理を簡単に実装することができます。\\n\\n5. 標準ライブラリの充実：Go言語には豊富な標準ライブラリが用意されており、ネットワークプログラミングやHTTPサーバの実装などが簡単に行えます。\\n\\nGo言語は、Webアプリケーションやシステムプログラミングなどのさまざまな分野で利用されており、特にコンテナ技術やマイクロサービスの開発に適しています。また、Googleや他の大手企業でも広く採用されているため、将来性の高い言語として注目されています。' response_metadata={'token_usage': <OpenAIObject at 0x28e0f89adb0> JSON: {\n",
      "  \"prompt_tokens\": 20,\n",
      "  \"completion_tokens\": 574,\n",
      "  \"total_tokens\": 594\n",
      "}, 'model_name': 'gpt-3.5-turbo', 'system_fingerprint': 'fp_3b956da36b', 'finish_reason': 'stop', 'logprobs': None} id='run-1ff6fff6-5f25-4fc1-abde-30b0360eaa0f-0'\n"
     ]
    }
   ],
   "source": [
    "from langchain.chat_models import ChatOpenAI\n",
    "from langchain.schema import HumanMessage\n",
    "\n",
    "chat = ChatOpenAI(model_name=\"gpt-3.5-turbo\")\n",
    "response =chat(\n",
    "    [\n",
    "        HumanMessage(content=\"Go言語について教えてください\")\n",
    "    ]\n",
    ")\n",
    "\n",
    "print(response)"
   ]
  },
  {
   "cell_type": "code",
   "execution_count": 2,
   "id": "a47fa2e9-8e11-4fc1-83aa-07026f9ef000",
   "metadata": {},
   "outputs": [
    {
     "data": {
      "text/plain": [
       "'Go言語（Golang）は、Googleによって開発されたプログラミング言語です。2007年に開発が始まり、2009年に公開されました。Go言語は静的型付け言語であり、並行処理やネットワークプログラミングなどの高度な機能をサポートしています。\\n\\nGo言語の特徴としては、以下のような点が挙げられます。\\n\\n1. シンプルで直感的な文法：Go言語はシンプルな文法を持っており、初心者でも比較的簡単に学習することができます。\\n\\n2. 高速なコンパイル：Go言語のコンパイラは非常に高速であり、コードの変更をすぐに反映させることができます。\\n\\n3. 厳密な型付け：Go言語は静的型付け言語であり、型の厳密さによってプログラムの安全性を確保することができます。\\n\\n4. 並行処理のサポート：Go言語は軽量なスレッドであるゴルーチン（goroutine）をサポートしており、並行処理を簡単に実装することができます。\\n\\n5. 標準ライブラリの充実：Go言語には豊富な標準ライブラリが用意されており、ネットワークプログラミングやHTTPサーバの実装などが簡単に行えます。\\n\\nGo言語は、Webアプリケーションやシステムプログラミングなどのさまざまな分野で利用されており、特にコンテナ技術やマイクロサービスの開発に適しています。また、Googleや他の大手企業でも広く採用されているため、将来性の高い言語として注目されています。'"
      ]
     },
     "execution_count": 2,
     "metadata": {},
     "output_type": "execute_result"
    }
   ],
   "source": [
    "response.content"
   ]
  },
  {
   "cell_type": "markdown",
   "id": "b22de134-7356-4177-b38a-c06a864ee496",
   "metadata": {},
   "source": [
    "## 新しい検索エンジンを作成\n",
    "１．以下にアクセス\n",
    "https://programmablesearchengine.google.com/about/\n",
    "\n",
    "２．検索エンジンを作成\n",
    "#途中で出てきたリンク\n",
    "\n",
    "３．カスタマイズ押して検索エンジンIDコピー\n",
    "XXXXXXXXXXXXX\n",
    "\n",
    "４．プログラマティックなアクセスで開始ボタン\n",
    "1 日あたり 10,000 クエリを上限とします【開始する】\n",
    "\n",
    "５．キーを取得\n",
    "XXXXXXXXXXXXX"
   ]
  },
  {
   "cell_type": "code",
   "execution_count": 4,
   "id": "c398bffa-7ea5-4a59-9c80-805d26a2a4dc",
   "metadata": {},
   "outputs": [],
   "source": [
    "from langchain.agents import initialize_agent, Tool\n",
    "from langchain.utilities import GoogleSearchAPIWrapper\n",
    "from langchain.prompts import PromptTemplate\n",
    "from langchain.agents import AgentType\n",
    "from langchain.chat_models import ChatOpenAI\n",
    "import os"
   ]
  },
  {
   "cell_type": "code",
   "execution_count": 10,
   "id": "b90210e6-b5df-43c0-b4a1-096f0d7aa884",
   "metadata": {},
   "outputs": [
    {
     "data": {
      "text/plain": [
       "'GeminiKey'"
      ]
     },
     "execution_count": 10,
     "metadata": {},
     "output_type": "execute_result"
    }
   ],
   "source": [
    "#.envファイルを読み込む方法\n",
    "from dotenv import load_dotenv\n",
    "#.env読み込み\n",
    "load_dotenv()\n",
    "#値の参照（例）\n",
    "os.environ['GEMINI_API_KEY']"
   ]
  },
  {
   "cell_type": "code",
   "execution_count": 6,
   "id": "29fff228-5535-48a8-8e78-dee03fe25884",
   "metadata": {},
   "outputs": [],
   "source": [
    "#直接キーを環境変数に代入する方法\n",
    "os.environ['GOOGLE_CSE_ID'] = 'XXXXXXXXXX'\n",
    "#環境変数名がGeminiAPIと被ります\n",
    "os.environ['GOOGLE_API_KEY'] = 'XXXXXXXXXX'"
   ]
  },
  {
   "cell_type": "code",
   "execution_count": 18,
   "id": "e00bcd73-d4be-4dca-8331-d3f659d126cb",
   "metadata": {},
   "outputs": [
    {
     "data": {
      "text/plain": [
       "'今日は雲が優勢の空に。夕方以降はにわか雨の可能性があります。帰りが遅くなる方は折りたたみ傘がお守り。昨日の暑さは落ち着き、昼間は\\xa0... 東京（東京）の天気予報。今日・明日の天気と風と波、明日までの6時間ごとの降水確率と最高・最低気温を見られます。 東京都の天気予報です。市区町村別の今日の天気、気温、降水確率が地図上に表示されているので、ひと目でわかります。タブ切り替えで10日間先まで見ることができます。 【予報精度No.1】東京都中央区の天気予報を5分毎・1時間毎・今日明日・週間(10日間)で掲載中！今知りたい現地の天気は、ウェザーニュースアプリから届く空の写真で確認\\xa0... 【東京都】の天気予報。きょうから1週間先までの天気・降水確率・最高・最低気温を確認できます。詳細は市区町村を選択してご覧ください。アメダス情報も掲載してい\\xa0... 今日 05日(日), 明日 06日(月), 明後日 07日(火), 08日 ... 東京. 晴. 晴後曇. 曇時々雨. 曇一時雨. 曇一時雨. 晴時々 ... 2週間気温予報へ. 週間天気予報解説資料へ. 防災に役立つ最新の特別警報、警報、注意報、今後の推移を市区町村レベルで提供。 港区, 東京都 の天気. 6. 今日 · 1時間ごと · 10日間 · レーダー. 1時間ごとの天気-港区, 東京都. 6/9(日)無料招待. 詳細. 東京. Home > 東京都 > 千代田区. 所在地：東京都千代田区JR上越新幹線. 今日. 2024年 5月6日（月）. 雨のち曇. 現在温度. 21℃. 50%. 23℃ |. 19℃. Feb 4, 2024 ... 今日4日(日)は二十四節気の「立春」ですが、東京都心では小雪が舞いました。午後は天気回復も、明日5日(月)午後～6日(火)午前は大雪の恐れ。'"
      ]
     },
     "execution_count": 18,
     "metadata": {},
     "output_type": "execute_result"
    }
   ],
   "source": [
    "#GoogleSearchAPIWrapperのテスト\n",
    "from langchain_community.utilities import GoogleSearchAPIWrapper\n",
    "from langchain_core.tools import Tool\n",
    "\n",
    "search = GoogleSearchAPIWrapper()\n",
    "\n",
    "tool = Tool(\n",
    "    name=\"google_search\",\n",
    "    description=\"Search Google for recent results.\",\n",
    "    func=search.run,\n",
    ")\n",
    "\n",
    "tool.run(\"今日の東京の天気は？\")"
   ]
  },
  {
   "cell_type": "code",
   "execution_count": 8,
   "id": "67a46dee-0d1b-4249-8eac-d43d875921d5",
   "metadata": {},
   "outputs": [],
   "source": [
    "def create_prompt(user_input):\n",
    "    prompt = PromptTemplate(\n",
    "        input_variables=[\"theme\"],\n",
    "        template=\"\"\"\n",
    "        あなたはニュース記事を書くブロガーです。\n",
    "        下記のテーマについて、Google検索で最新情報を取得し、取得した\n",
    "        情報に基づいてニュース記事を書いてください。\n",
    "        1000文字以上で、日本語で出力してください。\n",
    "        記事の末尾に参考にしたURLを参照元としてタイトルと\n",
    "        URLを出力してください。\n",
    "        ###\n",
    "        テーマ:{theme}\n",
    "        \"\"\"\n",
    "    )\n",
    "    return prompt.format(theme=user_input)"
   ]
  },
  {
   "cell_type": "code",
   "execution_count": 13,
   "id": "92457415-71d7-4a85-b890-3ce8b9408d9d",
   "metadata": {},
   "outputs": [],
   "source": [
    "#プロンプト例その２\n",
    "def create_prompt2(user_input):\n",
    "    prompt = PromptTemplate(\n",
    "        input_variables=[\"theme\"],\n",
    "        template=\"\"\"\n",
    "        あなたはニュース記事を書く英国圏のブロガーです。\n",
    "        下記のテーマについて、英語Google検索で最新情報を取得し、取得した\n",
    "        情報に基づいてリストを作成し、日本語で出力してください。\n",
    "        リストにはサービス名と公式URL、サービス概要を含めてください。\n",
    "        ###\n",
    "        テーマ:{theme}\n",
    "        \"\"\"\n",
    "    )\n",
    "    return prompt.format(theme=user_input)"
   ]
  },
  {
   "cell_type": "code",
   "execution_count": 14,
   "id": "9c21df0f-b40b-4570-bfc7-0bcc127d6635",
   "metadata": {},
   "outputs": [],
   "source": [
    "#プロンプト例その３\n",
    "def create_prompt3(user_input):\n",
    "    prompt = PromptTemplate(\n",
    "        input_variables=[\"theme\"],\n",
    "        template=\"\"\"\n",
    "        あなたはニュース記事を書く英国圏のブロガーです。\n",
    "        下記のテーマについて、英語Google検索で最新情報を取得し、取得した\n",
    "        内容に基づいて要約してください。\n",
    "        ###\n",
    "        言語:日本語\n",
    "        ###\n",
    "        文字数:200文字以内\n",
    "        ###\n",
    "        テーマ:{theme}\n",
    "        \"\"\"\n",
    "    )\n",
    "    return prompt.format(theme=user_input)"
   ]
  },
  {
   "cell_type": "code",
   "execution_count": 9,
   "id": "89ffa388-3d74-4bdc-bbcd-5cf064fd8ddd",
   "metadata": {},
   "outputs": [],
   "source": [
    "def define_tools():\n",
    "    search = GoogleSearchAPIWrapper()\n",
    "    return[\n",
    "        Tool(\n",
    "            name=\"Search\",\n",
    "            func=search.run,\n",
    "            description=\"useful when you need to answer questions about current events. \\\n",
    "            You should ask tageted questions\"\n",
    "        ),\n",
    "    ]"
   ]
  },
  {
   "cell_type": "code",
   "execution_count": 10,
   "id": "012ced1f-b4b9-441e-8f71-2b725fd5b526",
   "metadata": {},
   "outputs": [],
   "source": [
    "def write_response_to_file(response, filemame):\n",
    "    with open(filemame, 'w', encoding='utf-8') as file:\n",
    "        file.write(response)\n",
    "    print(\"出力が完了しました\")"
   ]
  },
  {
   "cell_type": "code",
   "execution_count": 11,
   "id": "90553549-ee09-4cae-9539-e228582756f9",
   "metadata": {},
   "outputs": [],
   "source": [
    "#OpenAIの場合\n",
    "def OpenAI_main():\n",
    "    llm = ChatOpenAI(temperature=0, model=\"gpt-3.5-turbo\", max_tokens=2000)\n",
    "    tools = define_tools()\n",
    "    agent = initialize_agent(tools, llm, agent=AgentType.OPENAI_FUNCTIONS)\n",
    "    prompt = create_prompt(input(\"記事のテーマを入力してください：\"))\n",
    "    response = agent.run(prompt)\n",
    "    write_response_to_file(response, 'output.txt')"
   ]
  },
  {
   "cell_type": "code",
   "execution_count": 15,
   "id": "7c61a180-5a87-43f6-bdf7-ee5852f01e2b",
   "metadata": {},
   "outputs": [
    {
     "name": "stdin",
     "output_type": "stream",
     "text": [
      "記事のテーマを入力してください： 管理栄養士\n"
     ]
    },
    {
     "name": "stdout",
     "output_type": "stream",
     "text": [
      "\n",
      "        あなたはニュース記事を書く英国圏のブロガーです。\n",
      "        下記のテーマについて、英語Google検索で最新情報を取得し、取得した\n",
      "        内容に基づいて要約してください。\n",
      "        ###\n",
      "        言語:日本語\n",
      "        ###\n",
      "        文字数:200文字以内\n",
      "        ###\n",
      "        テーマ:管理栄養士\n",
      "        \n"
     ]
    }
   ],
   "source": [
    "#プロンプトテンプレートのテスト\n",
    "prompt = create_prompt3(input(\"記事のテーマを入力してください：\"))\n",
    "print(prompt)"
   ]
  },
  {
   "cell_type": "code",
   "execution_count": 12,
   "id": "13c0e9e6-9491-4679-a9f0-4a52b729c1b9",
   "metadata": {},
   "outputs": [
    {
     "name": "stdin",
     "output_type": "stream",
     "text": [
      "記事のテーマを入力してください： 管理栄養士\n"
     ]
    },
    {
     "name": "stdout",
     "output_type": "stream",
     "text": [
      "出力が完了しました\n"
     ]
    }
   ],
   "source": [
    "#関数テスト\n",
    "OpenAI_main()"
   ]
  },
  {
   "cell_type": "code",
   "execution_count": 16,
   "id": "eec9f942-2df2-4608-beab-b5227f74c4c7",
   "metadata": {},
   "outputs": [],
   "source": [
    "#Geminiの場合\n",
    "from langchain_google_genai import ChatGoogleGenerativeAI\n",
    "\n",
    "def Gemini_main():\n",
    "    llm = ChatGoogleGenerativeAI(temperature=0, model=\"gemini-pro\", max_output_tokens=2000, apiKey='XXXXX')\n",
    "    tools = define_tools()\n",
    "    agent = initialize_agent(tools, llm, agent=AgentType.ZERO_SHOT_REACT_DESCRIPTION)\n",
    "    #prompt = create_prompt(input(\"記事のテーマを入力してください：\"))\n",
    "    prompt = create_prompt(\"日本の総理大臣は？\")\n",
    "    response = agent.run(prompt)\n",
    "    write_response_to_file(response, 'output.txt')"
   ]
  },
  {
   "cell_type": "code",
   "execution_count": null,
   "id": "70a0eff0-8fb1-470c-aeaa-ff7f6307703d",
   "metadata": {},
   "outputs": [],
   "source": [
    "Gemini_main()"
   ]
  },
  {
   "cell_type": "code",
   "execution_count": null,
   "id": "80fa09f2-8e77-4153-8bf7-18f7cf4fc736",
   "metadata": {},
   "outputs": [],
   "source": []
  }
 ],
 "metadata": {
  "kernelspec": {
   "display_name": "Python 3 (ipykernel)",
   "language": "python",
   "name": "python3"
  },
  "language_info": {
   "codemirror_mode": {
    "name": "ipython",
    "version": 3
   },
   "file_extension": ".py",
   "mimetype": "text/x-python",
   "name": "python",
   "nbconvert_exporter": "python",
   "pygments_lexer": "ipython3",
   "version": "3.11.7"
  }
 },
 "nbformat": 4,
 "nbformat_minor": 5
}
