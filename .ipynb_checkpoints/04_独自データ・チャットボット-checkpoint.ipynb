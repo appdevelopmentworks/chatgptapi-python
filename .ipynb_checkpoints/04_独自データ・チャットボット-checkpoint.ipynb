{
 "cells": [
  {
   "cell_type": "code",
   "execution_count": 1,
   "id": "404bc028-9463-4470-9ae5-4817f86305aa",
   "metadata": {},
   "outputs": [
    {
     "name": "stdout",
     "output_type": "stream",
     "text": [
      "Collecting tiktoken\n",
      "  Using cached tiktoken-0.6.0-cp311-cp311-win_amd64.whl.metadata (6.8 kB)\n",
      "Requirement already satisfied: regex>=2022.1.18 in c:\\users\\hartm\\anaconda3\\lib\\site-packages (from tiktoken) (2023.10.3)\n",
      "Requirement already satisfied: requests>=2.26.0 in c:\\users\\hartm\\anaconda3\\lib\\site-packages (from tiktoken) (2.31.0)\n",
      "Requirement already satisfied: charset-normalizer<4,>=2 in c:\\users\\hartm\\anaconda3\\lib\\site-packages (from requests>=2.26.0->tiktoken) (2.0.4)\n",
      "Requirement already satisfied: idna<4,>=2.5 in c:\\users\\hartm\\anaconda3\\lib\\site-packages (from requests>=2.26.0->tiktoken) (3.4)\n",
      "Requirement already satisfied: urllib3<3,>=1.21.1 in c:\\users\\hartm\\anaconda3\\lib\\site-packages (from requests>=2.26.0->tiktoken) (2.0.7)\n",
      "Requirement already satisfied: certifi>=2017.4.17 in c:\\users\\hartm\\anaconda3\\lib\\site-packages (from requests>=2.26.0->tiktoken) (2024.2.2)\n",
      "Using cached tiktoken-0.6.0-cp311-cp311-win_amd64.whl (798 kB)\n",
      "Installing collected packages: tiktoken\n",
      "Successfully installed tiktoken-0.6.0\n",
      "Requirement already satisfied: plotly in c:\\users\\hartm\\anaconda3\\lib\\site-packages (5.9.0)\n",
      "Requirement already satisfied: tenacity>=6.2.0 in c:\\users\\hartm\\anaconda3\\lib\\site-packages (from plotly) (8.2.2)\n",
      "Requirement already satisfied: scipy in c:\\users\\hartm\\anaconda3\\lib\\site-packages (1.11.4)\n",
      "Requirement already satisfied: numpy<1.28.0,>=1.21.6 in c:\\users\\hartm\\anaconda3\\lib\\site-packages (from scipy) (1.26.4)\n",
      "Requirement already satisfied: scikit-learn in c:\\users\\hartm\\anaconda3\\lib\\site-packages (1.2.2)\n",
      "Requirement already satisfied: numpy>=1.17.3 in c:\\users\\hartm\\anaconda3\\lib\\site-packages (from scikit-learn) (1.26.4)\n",
      "Requirement already satisfied: scipy>=1.3.2 in c:\\users\\hartm\\anaconda3\\lib\\site-packages (from scikit-learn) (1.11.4)\n",
      "Requirement already satisfied: joblib>=1.1.1 in c:\\users\\hartm\\anaconda3\\lib\\site-packages (from scikit-learn) (1.2.0)\n",
      "Requirement already satisfied: threadpoolctl>=2.0.0 in c:\\users\\hartm\\anaconda3\\lib\\site-packages (from scikit-learn) (2.2.0)\n"
     ]
    }
   ],
   "source": [
    "!pip install tiktoken\n",
    "!pip install plotly\n",
    "!pip install scipy\n",
    "!pip install scikit-learn"
   ]
  },
  {
   "cell_type": "code",
   "execution_count": null,
   "id": "ff737b2f-f707-4c41-8059-3b3ba5e5600b",
   "metadata": {},
   "outputs": [],
   "source": [
    "#!pip uninstall openai\n",
    "!pip install openai==0.28.1"
   ]
  },
  {
   "cell_type": "code",
   "execution_count": 1,
   "id": "dcca30be-0681-47e1-8586-8570f3846ad6",
   "metadata": {},
   "outputs": [],
   "source": [
    "import pandas as pd\n",
    "#正規表現パッケージ\n",
    "import re"
   ]
  },
  {
   "cell_type": "code",
   "execution_count": 2,
   "id": "644c10cf-da22-4ebc-8d5d-9c5419edf322",
   "metadata": {},
   "outputs": [],
   "source": [
    "def remove_newlines(text):\n",
    "    #正規表現で文字列を置換\n",
    "    #改行と連続する空白を半角スペースに変換\n",
    "    text = re.sub(r'\\n', ' ', text)\n",
    "    text = re.sub(r' +', ' ', text)\n",
    "    return text"
   ]
  },
  {
   "cell_type": "code",
   "execution_count": 24,
   "id": "0517f129-2894-4512-81e3-1c706600def5",
   "metadata": {},
   "outputs": [],
   "source": [
    "#テキストデータを読み込んでデータフレームを返す関数\n",
    "def text_to_df(data_file):\n",
    "    #一行分の値を格納する配列を初期化\n",
    "    texts =[]\n",
    "    #utf-8でテキストファイルを開く\n",
    "    with open(data_file, 'r', encoding='utf-8') as file:\n",
    "        #すべて読み込む\n",
    "        text = file.read()\n",
    "        #改行２つを区切りに分割\n",
    "        sections = text.split('\\n\\n')\n",
    "        #項目ごと\n",
    "        for section in sections:\n",
    "            #改行で分割\n",
    "            lines = section.split('\\n')\n",
    "            #配列最初の要素に項目名（例：1. ゲストの歓迎）\n",
    "            fname = lines[0]\n",
    "            #配列１番目以降の要素すべてをつなげる\n",
    "            content = ' '.join(lines[1:])\n",
    "            #配列を追加\n",
    "            texts.append([fname, content])\n",
    "    #配列を元にデータフレーム作成\n",
    "    df = pd.DataFrame(texts, columns=['fname', 'text'])\n",
    "    #列内の改行を削除\n",
    "    df['text'] = df['text'].apply(remove_newlines)\n",
    "    #データフレームを返す\n",
    "    return df"
   ]
  },
  {
   "cell_type": "code",
   "execution_count": 4,
   "id": "ccc5a888-0e57-454c-9cc9-1367763ed64b",
   "metadata": {},
   "outputs": [],
   "source": [
    "#データ読み込み\n",
    "df = text_to_df('data.txt')\n",
    "#表をCSVに保存\n",
    "df.to_csv('scraped.csv', index=False, encoding='utf-8')"
   ]
  },
  {
   "cell_type": "code",
   "execution_count": 5,
   "id": "253f2730-336f-4fa5-a1e0-fbacd415aee0",
   "metadata": {},
   "outputs": [
    {
     "data": {
      "text/html": [
       "<div>\n",
       "<style scoped>\n",
       "    .dataframe tbody tr th:only-of-type {\n",
       "        vertical-align: middle;\n",
       "    }\n",
       "\n",
       "    .dataframe tbody tr th {\n",
       "        vertical-align: top;\n",
       "    }\n",
       "\n",
       "    .dataframe thead th {\n",
       "        text-align: right;\n",
       "    }\n",
       "</style>\n",
       "<table border=\"1\" class=\"dataframe\">\n",
       "  <thead>\n",
       "    <tr style=\"text-align: right;\">\n",
       "      <th></th>\n",
       "      <th>fname</th>\n",
       "      <th>text</th>\n",
       "    </tr>\n",
       "  </thead>\n",
       "  <tbody>\n",
       "    <tr>\n",
       "      <th>0</th>\n",
       "      <td>1. ゲストの歓迎</td>\n",
       "      <td>お客様がホテルに到着した際、フレンドリーな笑顔と共に、礼儀正しく、エネルギッシュな挨拶を心掛...</td>\n",
       "    </tr>\n",
       "    <tr>\n",
       "      <th>1</th>\n",
       "      <td>2. チェックインとチェックアウト</td>\n",
       "      <td>チェックイン時間は午後3時、チェックアウト時間は午前11時です。早めのチェックインや遅めのチ...</td>\n",
       "    </tr>\n",
       "    <tr>\n",
       "      <th>2</th>\n",
       "      <td>3. Wi-Fiと駐車場の案内</td>\n",
       "      <td>全室に無料Wi-Fiが提供されています。接続方法やパスワードについて、確実に説明できるように...</td>\n",
       "    </tr>\n",
       "    <tr>\n",
       "      <th>3</th>\n",
       "      <td>4. バリアフリー対応</td>\n",
       "      <td>ユニバーサルルームの配置や設備、特長を理解し、必要に応じてお客様に説明できるようにしましょう...</td>\n",
       "    </tr>\n",
       "    <tr>\n",
       "      <th>4</th>\n",
       "      <td>5. ペットの対応</td>\n",
       "      <td>ペット同伴のお客様に対しては、礼儀正しく、しかし明確にペットの同伴はできない旨を伝えましょう...</td>\n",
       "    </tr>\n",
       "    <tr>\n",
       "      <th>5</th>\n",
       "      <td>6. ルームサービス</td>\n",
       "      <td>午後11時までのルームサービスを提供しています。ルームサービスメニューの内容を熟知し、お客様...</td>\n",
       "    </tr>\n",
       "    <tr>\n",
       "      <th>6</th>\n",
       "      <td>7. 禁煙ポリシーと喫煙室の案内</td>\n",
       "      <td>全客室は禁煙です。しかし、喫煙者のお客様のニーズにも応えるため、喫煙室を1階に設けています。...</td>\n",
       "    </tr>\n",
       "    <tr>\n",
       "      <th>7</th>\n",
       "      <td>8. キャンセルポリシー</td>\n",
       "      <td>キャンセル料は、前日までの連絡で宿泊料金の30%、当日のキャンセルで50%、連絡なしの場合は...</td>\n",
       "    </tr>\n",
       "    <tr>\n",
       "      <th>8</th>\n",
       "      <td>9. お支払いについて</td>\n",
       "      <td>チェックアウト時にはフロントで現金、クレジットカード、デビットカードによるお支払いをお願いし...</td>\n",
       "    </tr>\n",
       "    <tr>\n",
       "      <th>9</th>\n",
       "      <td>10. 常に敬意を持つ</td>\n",
       "      <td>お客様一人一人に敬意を持って接しましょう。お客様に対する礼儀正しさ、思いやり、プロ意識は、ホ...</td>\n",
       "    </tr>\n",
       "  </tbody>\n",
       "</table>\n",
       "</div>"
      ],
      "text/plain": [
       "               fname                                               text\n",
       "0          1. ゲストの歓迎  お客様がホテルに到着した際、フレンドリーな笑顔と共に、礼儀正しく、エネルギッシュな挨拶を心掛...\n",
       "1  2. チェックインとチェックアウト  チェックイン時間は午後3時、チェックアウト時間は午前11時です。早めのチェックインや遅めのチ...\n",
       "2    3. Wi-Fiと駐車場の案内  全室に無料Wi-Fiが提供されています。接続方法やパスワードについて、確実に説明できるように...\n",
       "3        4. バリアフリー対応  ユニバーサルルームの配置や設備、特長を理解し、必要に応じてお客様に説明できるようにしましょう...\n",
       "4          5. ペットの対応  ペット同伴のお客様に対しては、礼儀正しく、しかし明確にペットの同伴はできない旨を伝えましょう...\n",
       "5         6. ルームサービス  午後11時までのルームサービスを提供しています。ルームサービスメニューの内容を熟知し、お客様...\n",
       "6   7. 禁煙ポリシーと喫煙室の案内  全客室は禁煙です。しかし、喫煙者のお客様のニーズにも応えるため、喫煙室を1階に設けています。...\n",
       "7       8. キャンセルポリシー  キャンセル料は、前日までの連絡で宿泊料金の30%、当日のキャンセルで50%、連絡なしの場合は...\n",
       "8        9. お支払いについて  チェックアウト時にはフロントで現金、クレジットカード、デビットカードによるお支払いをお願いし...\n",
       "9        10. 常に敬意を持つ  お客様一人一人に敬意を持って接しましょう。お客様に対する礼儀正しさ、思いやり、プロ意識は、ホ..."
      ]
     },
     "execution_count": 5,
     "metadata": {},
     "output_type": "execute_result"
    }
   ],
   "source": [
    "df"
   ]
  },
  {
   "cell_type": "markdown",
   "id": "83f0e4d6-41c1-4d9c-b370-0628620545e7",
   "metadata": {},
   "source": [
    "### 学習データをエンベディング"
   ]
  },
  {
   "cell_type": "code",
   "execution_count": 6,
   "id": "ce9c18eb-8d59-46ac-9d6e-1082bcab2bf1",
   "metadata": {},
   "outputs": [],
   "source": [
    "import pandas as pd\n",
    "#トークン数管理ライブラリ\n",
    "import tiktoken\n",
    "#エンベッディング用ライブラリ\n",
    "from openai.embeddings_utils import get_embedding"
   ]
  },
  {
   "cell_type": "code",
   "execution_count": 25,
   "id": "586af2bf-4295-43b1-915b-bd2a2d3b0449",
   "metadata": {},
   "outputs": [],
   "source": [
    "#embedding_model = \"text-embedding-3-small\"\n",
    "#モデル、エンコード、最大トークン数\n",
    "embedding_model = \"text-embedding-ada-002\"\n",
    "embedding_encoding = \"cl100k_base\"\n",
    "max_tokens = 1500\n",
    "#先ほどのCSVファイルを読み込みデータフレームへ\n",
    "df = pd.read_csv('scraped.csv')\n",
    "df.columns = ['title', 'text']\n",
    "#n_tokensにトークン数格納\n",
    "tokenizer = tiktoken.get_encoding(embedding_encoding)\n",
    "df['n_tokens'] = df.text.apply(lambda x: len(tokenizer.encode(x)))"
   ]
  },
  {
   "cell_type": "code",
   "execution_count": 8,
   "id": "8e123489-1dba-486c-8ac5-552f020b39e4",
   "metadata": {},
   "outputs": [
    {
     "data": {
      "text/html": [
       "<div>\n",
       "<style scoped>\n",
       "    .dataframe tbody tr th:only-of-type {\n",
       "        vertical-align: middle;\n",
       "    }\n",
       "\n",
       "    .dataframe tbody tr th {\n",
       "        vertical-align: top;\n",
       "    }\n",
       "\n",
       "    .dataframe thead th {\n",
       "        text-align: right;\n",
       "    }\n",
       "</style>\n",
       "<table border=\"1\" class=\"dataframe\">\n",
       "  <thead>\n",
       "    <tr style=\"text-align: right;\">\n",
       "      <th></th>\n",
       "      <th>title</th>\n",
       "      <th>text</th>\n",
       "      <th>n_tokens</th>\n",
       "    </tr>\n",
       "  </thead>\n",
       "  <tbody>\n",
       "    <tr>\n",
       "      <th>0</th>\n",
       "      <td>1. ゲストの歓迎</td>\n",
       "      <td>お客様がホテルに到着した際、フレンドリーな笑顔と共に、礼儀正しく、エネルギッシュな挨拶を心掛...</td>\n",
       "      <td>163</td>\n",
       "    </tr>\n",
       "    <tr>\n",
       "      <th>1</th>\n",
       "      <td>2. チェックインとチェックアウト</td>\n",
       "      <td>チェックイン時間は午後3時、チェックアウト時間は午前11時です。早めのチェックインや遅めのチ...</td>\n",
       "      <td>122</td>\n",
       "    </tr>\n",
       "    <tr>\n",
       "      <th>2</th>\n",
       "      <td>3. Wi-Fiと駐車場の案内</td>\n",
       "      <td>全室に無料Wi-Fiが提供されています。接続方法やパスワードについて、確実に説明できるように...</td>\n",
       "      <td>113</td>\n",
       "    </tr>\n",
       "    <tr>\n",
       "      <th>3</th>\n",
       "      <td>4. バリアフリー対応</td>\n",
       "      <td>ユニバーサルルームの配置や設備、特長を理解し、必要に応じてお客様に説明できるようにしましょう...</td>\n",
       "      <td>130</td>\n",
       "    </tr>\n",
       "    <tr>\n",
       "      <th>4</th>\n",
       "      <td>5. ペットの対応</td>\n",
       "      <td>ペット同伴のお客様に対しては、礼儀正しく、しかし明確にペットの同伴はできない旨を伝えましょう...</td>\n",
       "      <td>128</td>\n",
       "    </tr>\n",
       "    <tr>\n",
       "      <th>5</th>\n",
       "      <td>6. ルームサービス</td>\n",
       "      <td>午後11時までのルームサービスを提供しています。ルームサービスメニューの内容を熟知し、お客様...</td>\n",
       "      <td>124</td>\n",
       "    </tr>\n",
       "    <tr>\n",
       "      <th>6</th>\n",
       "      <td>7. 禁煙ポリシーと喫煙室の案内</td>\n",
       "      <td>全客室は禁煙です。しかし、喫煙者のお客様のニーズにも応えるため、喫煙室を1階に設けています。...</td>\n",
       "      <td>99</td>\n",
       "    </tr>\n",
       "    <tr>\n",
       "      <th>7</th>\n",
       "      <td>8. キャンセルポリシー</td>\n",
       "      <td>キャンセル料は、前日までの連絡で宿泊料金の30%、当日のキャンセルで50%、連絡なしの場合は...</td>\n",
       "      <td>103</td>\n",
       "    </tr>\n",
       "    <tr>\n",
       "      <th>8</th>\n",
       "      <td>9. お支払いについて</td>\n",
       "      <td>チェックアウト時にはフロントで現金、クレジットカード、デビットカードによるお支払いをお願いし...</td>\n",
       "      <td>133</td>\n",
       "    </tr>\n",
       "    <tr>\n",
       "      <th>9</th>\n",
       "      <td>10. 常に敬意を持つ</td>\n",
       "      <td>お客様一人一人に敬意を持って接しましょう。お客様に対する礼儀正しさ、思いやり、プロ意識は、ホ...</td>\n",
       "      <td>114</td>\n",
       "    </tr>\n",
       "  </tbody>\n",
       "</table>\n",
       "</div>"
      ],
      "text/plain": [
       "               title                                               text  \\\n",
       "0          1. ゲストの歓迎  お客様がホテルに到着した際、フレンドリーな笑顔と共に、礼儀正しく、エネルギッシュな挨拶を心掛...   \n",
       "1  2. チェックインとチェックアウト  チェックイン時間は午後3時、チェックアウト時間は午前11時です。早めのチェックインや遅めのチ...   \n",
       "2    3. Wi-Fiと駐車場の案内  全室に無料Wi-Fiが提供されています。接続方法やパスワードについて、確実に説明できるように...   \n",
       "3        4. バリアフリー対応  ユニバーサルルームの配置や設備、特長を理解し、必要に応じてお客様に説明できるようにしましょう...   \n",
       "4          5. ペットの対応  ペット同伴のお客様に対しては、礼儀正しく、しかし明確にペットの同伴はできない旨を伝えましょう...   \n",
       "5         6. ルームサービス  午後11時までのルームサービスを提供しています。ルームサービスメニューの内容を熟知し、お客様...   \n",
       "6   7. 禁煙ポリシーと喫煙室の案内  全客室は禁煙です。しかし、喫煙者のお客様のニーズにも応えるため、喫煙室を1階に設けています。...   \n",
       "7       8. キャンセルポリシー  キャンセル料は、前日までの連絡で宿泊料金の30%、当日のキャンセルで50%、連絡なしの場合は...   \n",
       "8        9. お支払いについて  チェックアウト時にはフロントで現金、クレジットカード、デビットカードによるお支払いをお願いし...   \n",
       "9        10. 常に敬意を持つ  お客様一人一人に敬意を持って接しましょう。お客様に対する礼儀正しさ、思いやり、プロ意識は、ホ...   \n",
       "\n",
       "   n_tokens  \n",
       "0       163  \n",
       "1       122  \n",
       "2       113  \n",
       "3       130  \n",
       "4       128  \n",
       "5       124  \n",
       "6        99  \n",
       "7       103  \n",
       "8       133  \n",
       "9       114  "
      ]
     },
     "execution_count": 8,
     "metadata": {},
     "output_type": "execute_result"
    }
   ],
   "source": [
    "df"
   ]
  },
  {
   "cell_type": "code",
   "execution_count": 37,
   "id": "ac5f51a4-4016-4c3a-8629-50e2759023d6",
   "metadata": {},
   "outputs": [],
   "source": [
    "#\n",
    "def split_into_many(text, max_tokens = 500):\n",
    "    #「。」で文を分割\n",
    "    sentences = text.split('。')\n",
    "    #分割された文をエンコードしてトークン数を調べる\n",
    "    n_tokens = [len(tokenizer.encode(\" \" + sentence)) for sentence in sentences]\n",
    "    #変数初期化\n",
    "    chunks = []\n",
    "    tokens_so_far = 0\n",
    "    chunk = []\n",
    "    #文とトークン数をまとめてループ\n",
    "    for sentence, token in zip(sentences, n_tokens):\n",
    "        #カウントアップしたトークン数の値が最大トークン数より大きい場合\n",
    "        if tokens_so_far + token > max_tokens:\n",
    "            #chunks配列に追加し、chunkとカウンター初期化\n",
    "            chunks.append(\". \".join(chunk) + \".\")\n",
    "            chunk = []\n",
    "            tokens_so_far = 0\n",
    "        #１つのトークンが最大トークンより大きい場合は続ける\n",
    "        if token > max_tokens:\n",
    "            continue\n",
    "        #chunkに文を追加\n",
    "        chunk.append(sentence)\n",
    "        #トークンを１つカウントアップ\n",
    "        tokens_so_far += token + 1\n",
    "    #チャンクに値が入っていたら、chunksに追加\n",
    "    if chunk:\n",
    "        chunks.append(\". \".join(chunk) + \".\")\n",
    "    #chunks（文章）返す\n",
    "    return chunks"
   ]
  },
  {
   "cell_type": "code",
   "execution_count": 38,
   "id": "0c4b9e50-72a0-40e9-9f0d-3b26b7661976",
   "metadata": {},
   "outputs": [],
   "source": [
    "#データフレームを配列に一時的に変換する用の配列\n",
    "shortened = []\n",
    "\n",
    "#データフレームを一行ずつ走査\n",
    "for row in df.iterrows():\n",
    "    #値がない場合は続ける\n",
    "    if row[1]['text'] is None:\n",
    "        continue\n",
    "\n",
    "    #トークン数が設定した最大トークン数より大きい場合\n",
    "    if row[1]['n_tokens'] > max_tokens:\n",
    "        #文章を分割してshortenedに連結\n",
    "        shortened += split_into_many(row[1]['text'])\n",
    "    #それ以外\n",
    "    else:\n",
    "        #そのままshortenedに追加\n",
    "        shortened.append(row[1]['text'])\n",
    "#shortened配列をデータフレームに列名はtext\n",
    "df = pd.DataFrame(shortened, columns=['text'])\n",
    "#トークン数の列を追加\n",
    "df['n_tokens'] = df.text.apply(lambda x: len(tokenizer.encode(x)))\n",
    "#エンベッドした列を追加\n",
    "df['embeddings']=df.text.apply(lambda x: get_embedding(x, engine=embedding_model))\n",
    "#CSVに保存（永続化データ）\n",
    "df.to_csv('embeddings.csv')"
   ]
  },
  {
   "cell_type": "code",
   "execution_count": 39,
   "id": "9a02338a-f8a8-49c1-93ad-44a3835684d7",
   "metadata": {},
   "outputs": [
    {
     "data": {
      "text/html": [
       "<div>\n",
       "<style scoped>\n",
       "    .dataframe tbody tr th:only-of-type {\n",
       "        vertical-align: middle;\n",
       "    }\n",
       "\n",
       "    .dataframe tbody tr th {\n",
       "        vertical-align: top;\n",
       "    }\n",
       "\n",
       "    .dataframe thead th {\n",
       "        text-align: right;\n",
       "    }\n",
       "</style>\n",
       "<table border=\"1\" class=\"dataframe\">\n",
       "  <thead>\n",
       "    <tr style=\"text-align: right;\">\n",
       "      <th></th>\n",
       "      <th>text</th>\n",
       "      <th>n_tokens</th>\n",
       "      <th>embeddings</th>\n",
       "    </tr>\n",
       "  </thead>\n",
       "  <tbody>\n",
       "    <tr>\n",
       "      <th>0</th>\n",
       "      <td>お客様がホテルに到着した際、フレンドリーな笑顔と共に、礼儀正しく、エネルギッシュな挨拶を心掛...</td>\n",
       "      <td>163</td>\n",
       "      <td>[-0.002241256181150675, -0.0017336489399895072...</td>\n",
       "    </tr>\n",
       "    <tr>\n",
       "      <th>1</th>\n",
       "      <td>チェックイン時間は午後3時、チェックアウト時間は午前11時です。早めのチェックインや遅めのチ...</td>\n",
       "      <td>122</td>\n",
       "      <td>[-0.0005805598339065909, 0.004130268469452858,...</td>\n",
       "    </tr>\n",
       "    <tr>\n",
       "      <th>2</th>\n",
       "      <td>全室に無料Wi-Fiが提供されています。接続方法やパスワードについて、確実に説明できるように...</td>\n",
       "      <td>113</td>\n",
       "      <td>[0.006401557009667158, 0.008329352363944054, 0...</td>\n",
       "    </tr>\n",
       "    <tr>\n",
       "      <th>3</th>\n",
       "      <td>ユニバーサルルームの配置や設備、特長を理解し、必要に応じてお客様に説明できるようにしましょう...</td>\n",
       "      <td>130</td>\n",
       "      <td>[0.0037083665374666452, 0.0006142923957668245,...</td>\n",
       "    </tr>\n",
       "    <tr>\n",
       "      <th>4</th>\n",
       "      <td>ペット同伴のお客様に対しては、礼儀正しく、しかし明確にペットの同伴はできない旨を伝えましょう...</td>\n",
       "      <td>128</td>\n",
       "      <td>[0.010119488462805748, -0.00041648291517049074...</td>\n",
       "    </tr>\n",
       "    <tr>\n",
       "      <th>5</th>\n",
       "      <td>午後11時までのルームサービスを提供しています。ルームサービスメニューの内容を熟知し、お客様...</td>\n",
       "      <td>124</td>\n",
       "      <td>[0.003809709567576647, 0.004822501912713051, -...</td>\n",
       "    </tr>\n",
       "    <tr>\n",
       "      <th>6</th>\n",
       "      <td>全客室は禁煙です。しかし、喫煙者のお客様のニーズにも応えるため、喫煙室を1階に設けています。...</td>\n",
       "      <td>99</td>\n",
       "      <td>[0.003190160496160388, 0.008686614222824574, -...</td>\n",
       "    </tr>\n",
       "    <tr>\n",
       "      <th>7</th>\n",
       "      <td>キャンセル料は、前日までの連絡で宿泊料金の30%、当日のキャンセルで50%、連絡なしの場合は...</td>\n",
       "      <td>103</td>\n",
       "      <td>[0.0036050716880708933, 0.011107518337666988, ...</td>\n",
       "    </tr>\n",
       "    <tr>\n",
       "      <th>8</th>\n",
       "      <td>チェックアウト時にはフロントで現金、クレジットカード、デビットカードによるお支払いをお願いし...</td>\n",
       "      <td>133</td>\n",
       "      <td>[0.001599963172338903, 0.015280676074326038, 0...</td>\n",
       "    </tr>\n",
       "    <tr>\n",
       "      <th>9</th>\n",
       "      <td>お客様一人一人に敬意を持って接しましょう。お客様に対する礼儀正しさ、思いやり、プロ意識は、ホ...</td>\n",
       "      <td>114</td>\n",
       "      <td>[0.011891301721334457, 0.006994124501943588, 0...</td>\n",
       "    </tr>\n",
       "  </tbody>\n",
       "</table>\n",
       "</div>"
      ],
      "text/plain": [
       "                                                text  n_tokens  \\\n",
       "0  お客様がホテルに到着した際、フレンドリーな笑顔と共に、礼儀正しく、エネルギッシュな挨拶を心掛...       163   \n",
       "1  チェックイン時間は午後3時、チェックアウト時間は午前11時です。早めのチェックインや遅めのチ...       122   \n",
       "2  全室に無料Wi-Fiが提供されています。接続方法やパスワードについて、確実に説明できるように...       113   \n",
       "3  ユニバーサルルームの配置や設備、特長を理解し、必要に応じてお客様に説明できるようにしましょう...       130   \n",
       "4  ペット同伴のお客様に対しては、礼儀正しく、しかし明確にペットの同伴はできない旨を伝えましょう...       128   \n",
       "5  午後11時までのルームサービスを提供しています。ルームサービスメニューの内容を熟知し、お客様...       124   \n",
       "6  全客室は禁煙です。しかし、喫煙者のお客様のニーズにも応えるため、喫煙室を1階に設けています。...        99   \n",
       "7  キャンセル料は、前日までの連絡で宿泊料金の30%、当日のキャンセルで50%、連絡なしの場合は...       103   \n",
       "8  チェックアウト時にはフロントで現金、クレジットカード、デビットカードによるお支払いをお願いし...       133   \n",
       "9  お客様一人一人に敬意を持って接しましょう。お客様に対する礼儀正しさ、思いやり、プロ意識は、ホ...       114   \n",
       "\n",
       "                                          embeddings  \n",
       "0  [-0.002241256181150675, -0.0017336489399895072...  \n",
       "1  [-0.0005805598339065909, 0.004130268469452858,...  \n",
       "2  [0.006401557009667158, 0.008329352363944054, 0...  \n",
       "3  [0.0037083665374666452, 0.0006142923957668245,...  \n",
       "4  [0.010119488462805748, -0.00041648291517049074...  \n",
       "5  [0.003809709567576647, 0.004822501912713051, -...  \n",
       "6  [0.003190160496160388, 0.008686614222824574, -...  \n",
       "7  [0.0036050716880708933, 0.011107518337666988, ...  \n",
       "8  [0.001599963172338903, 0.015280676074326038, 0...  \n",
       "9  [0.011891301721334457, 0.006994124501943588, 0...  "
      ]
     },
     "execution_count": 39,
     "metadata": {},
     "output_type": "execute_result"
    }
   ],
   "source": [
    "df"
   ]
  },
  {
   "cell_type": "markdown",
   "id": "d96a155d-bf99-4b93-9a8d-e759271a5398",
   "metadata": {},
   "source": [
    "## LLMの学習した内容だけで応答するチャットボット"
   ]
  },
  {
   "cell_type": "code",
   "execution_count": 12,
   "id": "9325552a-50eb-4b11-99ca-589c96d532b1",
   "metadata": {},
   "outputs": [
    {
     "name": "stdout",
     "output_type": "stream",
     "text": [
      "質問を入力してください。\n"
     ]
    },
    {
     "name": "stdin",
     "output_type": "stream",
     "text": [
      " 茨木県の人口は？\n"
     ]
    },
    {
     "name": "stdout",
     "output_type": "stream",
     "text": [
      "ChatGPT: 茨木県の人口は2021年現在、約80万人です。\n"
     ]
    },
    {
     "name": "stdin",
     "output_type": "stream",
     "text": [
      " 茨木の特産品にはどの様なものがありますか？\n"
     ]
    },
    {
     "name": "stdout",
     "output_type": "stream",
     "text": [
      "ChatGPT: 茨木市には、以下のような特産品があります。\n",
      "\n",
      "1. 茨木ルーブ - 茨木市をイメージしたカラフルなルーブで、地元の農産物や観光名所をモチーフにした特別デザインが施されています。\n",
      "\n",
      "2. いばらきやきいも - 茨木市で栽培されたサツマイモを使用した焼き芋。香ばしくて甘い味が特徴です。\n",
      "\n",
      "3. しいたけ - 茨木市はしいたけの栽培が盛んで、新鮮で美味しいしいたけが特産品として知られています。\n",
      "\n",
      "4. いばらき杏 - 茨木市で栽培された杏の品種。果肉が瑞々しくて甘い味わいが特徴です。\n",
      "\n",
      "これらの特産品は、茨木市の地域性や風土を反映したもので、地元の人々や観光客に愛されています。\n"
     ]
    },
    {
     "name": "stdin",
     "output_type": "stream",
     "text": [
      " 他にありますか？\n"
     ]
    },
    {
     "name": "stdout",
     "output_type": "stream",
     "text": [
      "ChatGPT: 申し訳ありませんが、茨木市に関して特に有名な他の特産品はございません。上記の特産品が茨木市の代表的な特産品となります。茨木市周辺で生産される他の地域の特産品もありますが、茨木市独自の特産品は上記のものが主なものです。ご了承ください。\n"
     ]
    },
    {
     "name": "stdin",
     "output_type": "stream",
     "text": [
      " 納豆はどうですか？\n"
     ]
    },
    {
     "name": "stdout",
     "output_type": "stream",
     "text": [
      "ChatGPT: 茨木市では特に納豆が特産品として知られているわけではありませんが、日本全体で広く親しまれている食品です。茨木市でも一般的に食べられており、地元のスーパーや市場でも購入することができます。納豆は日本の代表的な発酵食品であり、栄養価も高く、健康に良いとされています。茨木市でも多くの人に愛されている食品の一つです。\n"
     ]
    },
    {
     "name": "stdin",
     "output_type": "stream",
     "text": [
      " exit\n"
     ]
    }
   ],
   "source": [
    "import os\n",
    "import openai\n",
    "\n",
    "openai.api_key=os.getenv('OPENAI_API_KEY')\n",
    "#ユーザーに入力指示\n",
    "print(\"質問を入力してください。\")\n",
    "#会話履歴用配列\n",
    "conversation_history=[]\n",
    "\n",
    "#会話用のループ\n",
    "while True:\n",
    "    #ユーザーが入力した値を年数に\n",
    "    user_input = input()\n",
    "    #入力値がexitならループを抜けて終了\n",
    "    if user_input==\"exit\":\n",
    "        break\n",
    "\n",
    "    #会話履歴に辞書型でユーザーの入力値追加\n",
    "    conversation_history.append(\n",
    "        {\"role\":\"user\", \"content\":user_input}\n",
    "    )\n",
    "    #GPTの応答、会話履歴を渡す\n",
    "    response = openai.ChatCompletion.create(\n",
    "        model=\"gpt-3.5-turbo\",\n",
    "        messages=conversation_history,\n",
    "    )\n",
    "    #GPTのレスポンスを変数に格納\n",
    "    chatgpt_response=response.choices[0][\"message\"][\"content\"]\n",
    "    #GPTのレスポンスも会話履歴に追加\n",
    "    conversation_history.append({\"role\":\"assistant\", \"content\":chatgpt_response})\n",
    "    #GPTのレスポンスを出力表示\n",
    "    print(\"ChatGPT:\", chatgpt_response)"
   ]
  },
  {
   "cell_type": "markdown",
   "id": "826bdb46-51fb-4605-b96f-b4f83c2f7b6b",
   "metadata": {},
   "source": [
    "## 与えた知識を元に回答するチャットボット"
   ]
  },
  {
   "cell_type": "code",
   "execution_count": 13,
   "id": "d933c812-36ac-4308-bac3-9d04a2c17a4d",
   "metadata": {},
   "outputs": [],
   "source": [
    "import pandas as pd\n",
    "import openai\n",
    "import numpy as np\n",
    "from openai.embeddings_utils import distances_from_embeddings"
   ]
  },
  {
   "cell_type": "code",
   "execution_count": 40,
   "id": "f1ce77e3-8be3-4f23-a6e5-90608021ad95",
   "metadata": {},
   "outputs": [],
   "source": [
    "#質問と学習データを比較して、コンテキストを作成\n",
    "def create_context(question, df, max_len=1800):\n",
    "    #質問をベクトル化\n",
    "    q_embeddings=openai.Embedding.create(input=question, engine='text-embedding-ada-002')['data'][0]['embedding']\n",
    "    #キーワード間の距離をコサイン近似で求め、データフレームに列を追加\n",
    "    df['distances']=distances_from_embeddings(q_embeddings, \n",
    "                                              df['embeddings'].apply(eval).apply(np.array).values, \n",
    "                                              distance_metric='cosine'\n",
    "                                             )\n",
    "    #コンテキスト格納用配列\n",
    "    returns=[]\n",
    "    #コンテキストの現在の長さ\n",
    "    cur_len=0\n",
    "    #データフレームのdistancesでソートしてループ\n",
    "    for _, row in df.sort_values('distances', ascending=True).iterrows():\n",
    "        #トークン数＋４でカウントアップ\n",
    "        cur_len +=row['n_tokens'] + 4\n",
    "        #cur_lenが指定した最大値より大きければループを抜ける\n",
    "        if cur_len > max_len:\n",
    "            break\n",
    "        #returnsにtextを追加\n",
    "        returns.append(row['text'])\n",
    "    #マークダウンの文字列とreturnsを一文に連結して返す\n",
    "    return \"\\n\\n###\\n\\n\".join(returns)"
   ]
  },
  {
   "cell_type": "code",
   "execution_count": 23,
   "id": "8233cc71-1648-4680-ab9d-719adc7ead55",
   "metadata": {},
   "outputs": [],
   "source": [
    "#質問と会話履歴を引数にGPTに回答させる。\n",
    "def answer_question(question, conversation_history):\n",
    "    #学習したRAGデータを読み込む\n",
    "    df = pd.read_csv('embeddings.csv', encoding=\"utf-8\")\n",
    "    #質問と学習データを比較してコンテキスト作成する関数（自作関数）\n",
    "    context = create_context(question, df, max_len=200)\n",
    "    #プロンプト\n",
    "    prompt = f\"あなたはとあるホテルのスタッフです。コンテキストに基づいて、お客様からの質問に丁寧に答えてください。コンテキストが質問に対して回答できない場合は「わかりません」と答えてください。\\n\\nコンテキスト: {context}\\n\\n---\\n\\n質問: {question}\\n回答:\"\n",
    "    #会話履歴にユーザーの入力を追加\n",
    "    conversation_history.append({\"role\": \"user\", \"content\": prompt})\n",
    "    #GPTに問い合わせ（例外処理付）\n",
    "    try:\n",
    "        #メッセージに会話履歴、temperatureは１で少し自由度持たせる\n",
    "        response = openai.ChatCompletion.create(\n",
    "            model=\"gpt-3.5-turbo\",\n",
    "            messages=conversation_history,\n",
    "            temperature=1,\n",
    "        )\n",
    "        #GPTの応答を返す\n",
    "        return response.choices[0][\"message\"][\"content\"].strip()\n",
    "    #例外処理\n",
    "    except Exception as e:\n",
    "        #エラーが出たときは空文字を返す\n",
    "        print(e)\n",
    "        return \"\""
   ]
  },
  {
   "cell_type": "code",
   "execution_count": 21,
   "id": "9b746c0e-e4bb-4fbd-babd-0f0b99bd8df4",
   "metadata": {},
   "outputs": [
    {
     "name": "stdout",
     "output_type": "stream",
     "text": [
      "質問を入力してください\n"
     ]
    },
    {
     "name": "stdin",
     "output_type": "stream",
     "text": [
      " 駐車場はありますか？\n"
     ]
    },
    {
     "name": "stdout",
     "output_type": "stream",
     "text": [
      "ChatGPT: はい、駐車場を180台分確保しております。ホテル入口付近にございますので、ご到着時にスムーズにご利用いただけます。駐車場は24時間ご利用いただけますので、チェックインからチェックアウトまでご利用いただけます。料金は無料です。\n"
     ]
    },
    {
     "name": "stdin",
     "output_type": "stream",
     "text": [
      " 部屋のタイプはどのようなものがありますか？\n"
     ]
    },
    {
     "name": "stdout",
     "output_type": "stream",
     "text": [
      "ChatGPT: 当ホテルでは、スタンダードルーム、デラックスルーム、スイートルーム、およびユニバーサルルームの4つの部屋タイプをご用意しております。ユニバーサルルームは車椅子を利用するお客様やバリアフリー設備を重視される方に最適です。広めの部屋スペースや専用のアクセシブルバスルームなど、快適な滞在をお約束いたします。他の部屋タイプについても詳細な説明や特長をお知らせいたしますので、お気軽にお問い合わせください。\n"
     ]
    },
    {
     "name": "stdin",
     "output_type": "stream",
     "text": [
      " チェックインは何時からですか？\n"
     ]
    },
    {
     "name": "stdout",
     "output_type": "stream",
     "text": [
      "ChatGPT: チェックインは午後3時からとなっております。早めのチェックインを希望される場合は、空室状況を確認のうえ、可能な限り迅速に対応させていただきます。ただし、お部屋の清掃などの準備が整っていない場合がございますので、ご了承ください。また、チェックイン前にお時間がある場合は、一時的にお荷物をお預かりすることも可能です。何かご不明点がございましたら、お気軽にお尋ねください。\n"
     ]
    },
    {
     "name": "stdin",
     "output_type": "stream",
     "text": [
      " チェックアウトは何時からですか？\n"
     ]
    },
    {
     "name": "stdout",
     "output_type": "stream",
     "text": [
      "ChatGPT: チェックアウト時間は午前11時となっております。遅めのチェックアウトをご希望される場合は、空室状況によっては対応可能な場合もございますので、ご希望の旨をフロントスタッフにお申し付けください。また、チェックアウト後も一時的にお荷物をお預かりすることも可能ですので、お気軽にお声がけください。何かご質問がございましたら、どうぞお知らせください。\n"
     ]
    },
    {
     "name": "stdin",
     "output_type": "stream",
     "text": [
      " 有難うございました\n"
     ]
    },
    {
     "name": "stdout",
     "output_type": "stream",
     "text": [
      "ChatGPT: どういたしまして。お困りのことがありましたらいつでもお知らせください。お客様のご滞在を快適にお過ごしいただけるよう心がけております。ありがとうございました。\n"
     ]
    },
    {
     "name": "stdin",
     "output_type": "stream",
     "text": [
      " exit\n"
     ]
    }
   ],
   "source": [
    "import os\n",
    "import openai\n",
    "\n",
    "#キーを設定\n",
    "openai.api_key = os.environ[\"OPENAI_API_KEY\"]\n",
    "\n",
    "# 最初にメッセージを表示する\n",
    "print(\"質問を入力してください\")\n",
    "#会話履歴用配列を初期化\n",
    "conversation_history = []\n",
    "\n",
    "#ユーザーがexitと入力するまで無限ループ\n",
    "while True:\n",
    "    # ユーザーの入力した文字を変数「user_input」に格納\n",
    "    user_input = input()\n",
    "\n",
    "    # ユーザーの入力した文字が「exit」の場合はループを抜ける\n",
    "    if user_input == \"exit\":\n",
    "        break\n",
    "    #会話履歴にユーザーの質問を追加\n",
    "    conversation_history.append({\"role\": \"user\", \"content\": user_input})\n",
    "    #質問に対するGPTの応答を呼び出す（履歴も渡す）\n",
    "    answer = answer_question(user_input, conversation_history)\n",
    "    #GPTの回答を出力\n",
    "    print(\"ChatGPT:\", answer)\n",
    "    #応答の履歴を会話履歴に追加\n",
    "    conversation_history.append({\"role\": \"assistant\", \"content\":answer})"
   ]
  },
  {
   "cell_type": "code",
   "execution_count": null,
   "id": "7d115ec3-59db-4baa-ad01-36c25336f9b0",
   "metadata": {},
   "outputs": [],
   "source": []
  }
 ],
 "metadata": {
  "kernelspec": {
   "display_name": "Python 3 (ipykernel)",
   "language": "python",
   "name": "python3"
  },
  "language_info": {
   "codemirror_mode": {
    "name": "ipython",
    "version": 3
   },
   "file_extension": ".py",
   "mimetype": "text/x-python",
   "name": "python",
   "nbconvert_exporter": "python",
   "pygments_lexer": "ipython3",
   "version": "3.11.7"
  }
 },
 "nbformat": 4,
 "nbformat_minor": 5
}
