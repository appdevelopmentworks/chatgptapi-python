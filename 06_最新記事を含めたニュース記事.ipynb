{
 "cells": [
  {
   "cell_type": "code",
   "execution_count": 1,
   "id": "a98fd3f4-32e8-4629-9333-f67be3dc84ec",
   "metadata": {},
   "outputs": [
    {
     "name": "stdout",
     "output_type": "stream",
     "text": [
      "Collecting langchain\n",
      "  Using cached langchain-0.1.16-py3-none-any.whl.metadata (13 kB)\n",
      "Requirement already satisfied: PyYAML>=5.3 in c:\\users\\hartm\\anaconda3\\lib\\site-packages (from langchain) (6.0.1)\n",
      "Requirement already satisfied: SQLAlchemy<3,>=1.4 in c:\\users\\hartm\\anaconda3\\lib\\site-packages (from langchain) (2.0.25)\n",
      "Requirement already satisfied: aiohttp<4.0.0,>=3.8.3 in c:\\users\\hartm\\anaconda3\\lib\\site-packages (from langchain) (3.9.3)\n",
      "Collecting dataclasses-json<0.7,>=0.5.7 (from langchain)\n",
      "  Using cached dataclasses_json-0.6.4-py3-none-any.whl.metadata (25 kB)\n",
      "Requirement already satisfied: jsonpatch<2.0,>=1.33 in c:\\users\\hartm\\anaconda3\\lib\\site-packages (from langchain) (1.33)\n",
      "Collecting langchain-community<0.1,>=0.0.32 (from langchain)\n",
      "  Downloading langchain_community-0.0.34-py3-none-any.whl.metadata (8.5 kB)\n",
      "Requirement already satisfied: langchain-core<0.2.0,>=0.1.42 in c:\\users\\hartm\\anaconda3\\lib\\site-packages (from langchain) (0.1.45)\n",
      "Collecting langchain-text-splitters<0.1,>=0.0.1 (from langchain)\n",
      "  Using cached langchain_text_splitters-0.0.1-py3-none-any.whl.metadata (2.0 kB)\n",
      "Requirement already satisfied: langsmith<0.2.0,>=0.1.17 in c:\\users\\hartm\\anaconda3\\lib\\site-packages (from langchain) (0.1.49)\n",
      "Requirement already satisfied: numpy<2,>=1 in c:\\users\\hartm\\anaconda3\\lib\\site-packages (from langchain) (1.26.4)\n",
      "Requirement already satisfied: pydantic<3,>=1 in c:\\users\\hartm\\anaconda3\\lib\\site-packages (from langchain) (1.10.12)\n",
      "Requirement already satisfied: requests<3,>=2 in c:\\users\\hartm\\anaconda3\\lib\\site-packages (from langchain) (2.31.0)\n",
      "Requirement already satisfied: tenacity<9.0.0,>=8.1.0 in c:\\users\\hartm\\anaconda3\\lib\\site-packages (from langchain) (8.2.2)\n",
      "Requirement already satisfied: aiosignal>=1.1.2 in c:\\users\\hartm\\anaconda3\\lib\\site-packages (from aiohttp<4.0.0,>=3.8.3->langchain) (1.2.0)\n",
      "Requirement already satisfied: attrs>=17.3.0 in c:\\users\\hartm\\anaconda3\\lib\\site-packages (from aiohttp<4.0.0,>=3.8.3->langchain) (23.1.0)\n",
      "Requirement already satisfied: frozenlist>=1.1.1 in c:\\users\\hartm\\anaconda3\\lib\\site-packages (from aiohttp<4.0.0,>=3.8.3->langchain) (1.4.0)\n",
      "Requirement already satisfied: multidict<7.0,>=4.5 in c:\\users\\hartm\\anaconda3\\lib\\site-packages (from aiohttp<4.0.0,>=3.8.3->langchain) (6.0.4)\n",
      "Requirement already satisfied: yarl<2.0,>=1.0 in c:\\users\\hartm\\anaconda3\\lib\\site-packages (from aiohttp<4.0.0,>=3.8.3->langchain) (1.9.3)\n",
      "Collecting marshmallow<4.0.0,>=3.18.0 (from dataclasses-json<0.7,>=0.5.7->langchain)\n",
      "  Using cached marshmallow-3.21.1-py3-none-any.whl.metadata (7.2 kB)\n",
      "Collecting typing-inspect<1,>=0.4.0 (from dataclasses-json<0.7,>=0.5.7->langchain)\n",
      "  Using cached typing_inspect-0.9.0-py3-none-any.whl.metadata (1.5 kB)\n",
      "Requirement already satisfied: jsonpointer>=1.9 in c:\\users\\hartm\\anaconda3\\lib\\site-packages (from jsonpatch<2.0,>=1.33->langchain) (2.1)\n",
      "Requirement already satisfied: packaging<24.0,>=23.2 in c:\\users\\hartm\\anaconda3\\lib\\site-packages (from langchain-core<0.2.0,>=0.1.42->langchain) (23.2)\n",
      "Requirement already satisfied: orjson<4.0.0,>=3.9.14 in c:\\users\\hartm\\anaconda3\\lib\\site-packages (from langsmith<0.2.0,>=0.1.17->langchain) (3.10.1)\n",
      "Requirement already satisfied: typing-extensions>=4.2.0 in c:\\users\\hartm\\anaconda3\\lib\\site-packages (from pydantic<3,>=1->langchain) (4.9.0)\n",
      "Requirement already satisfied: charset-normalizer<4,>=2 in c:\\users\\hartm\\anaconda3\\lib\\site-packages (from requests<3,>=2->langchain) (2.0.4)\n",
      "Requirement already satisfied: idna<4,>=2.5 in c:\\users\\hartm\\anaconda3\\lib\\site-packages (from requests<3,>=2->langchain) (3.4)\n",
      "Requirement already satisfied: urllib3<3,>=1.21.1 in c:\\users\\hartm\\anaconda3\\lib\\site-packages (from requests<3,>=2->langchain) (2.0.7)\n",
      "Requirement already satisfied: certifi>=2017.4.17 in c:\\users\\hartm\\anaconda3\\lib\\site-packages (from requests<3,>=2->langchain) (2024.2.2)\n",
      "Requirement already satisfied: greenlet!=0.4.17 in c:\\users\\hartm\\anaconda3\\lib\\site-packages (from SQLAlchemy<3,>=1.4->langchain) (3.0.1)\n",
      "Requirement already satisfied: mypy-extensions>=0.3.0 in c:\\users\\hartm\\anaconda3\\lib\\site-packages (from typing-inspect<1,>=0.4.0->dataclasses-json<0.7,>=0.5.7->langchain) (1.0.0)\n",
      "Using cached langchain-0.1.16-py3-none-any.whl (817 kB)\n",
      "Using cached dataclasses_json-0.6.4-py3-none-any.whl (28 kB)\n",
      "Downloading langchain_community-0.0.34-py3-none-any.whl (1.9 MB)\n",
      "   ---------------------------------------- 0.0/1.9 MB ? eta -:--:--\n",
      "   ---------------------------------------- 0.0/1.9 MB ? eta -:--:--\n",
      "   ---------------------------------------- 0.0/1.9 MB 682.7 kB/s eta 0:00:03\n",
      "    --------------------------------------- 0.0/1.9 MB 393.8 kB/s eta 0:00:05\n",
      "   - -------------------------------------- 0.1/1.9 MB 438.9 kB/s eta 0:00:05\n",
      "   ---- ----------------------------------- 0.2/1.9 MB 1.1 MB/s eta 0:00:02\n",
      "   ---------------------------------------  1.9/1.9 MB 8.2 MB/s eta 0:00:01\n",
      "   ---------------------------------------- 1.9/1.9 MB 7.7 MB/s eta 0:00:00\n",
      "Using cached langchain_text_splitters-0.0.1-py3-none-any.whl (21 kB)\n",
      "Using cached marshmallow-3.21.1-py3-none-any.whl (49 kB)\n",
      "Using cached typing_inspect-0.9.0-py3-none-any.whl (8.8 kB)\n",
      "Installing collected packages: typing-inspect, marshmallow, dataclasses-json, langchain-text-splitters, langchain-community, langchain\n",
      "Successfully installed dataclasses-json-0.6.4 langchain-0.1.16 langchain-community-0.0.34 langchain-text-splitters-0.0.1 marshmallow-3.21.1 typing-inspect-0.9.0\n"
     ]
    }
   ],
   "source": [
    "!pip install langchain"
   ]
  },
  {
   "cell_type": "code",
   "execution_count": 2,
   "id": "cada0efa-c436-4911-9cc8-09173b282f0d",
   "metadata": {},
   "outputs": [
    {
     "name": "stdout",
     "output_type": "stream",
     "text": [
      "Requirement already satisfied: google-api-python-client in c:\\users\\hartm\\anaconda3\\lib\\site-packages (2.126.0)\n",
      "Requirement already satisfied: httplib2<1.dev0,>=0.19.0 in c:\\users\\hartm\\anaconda3\\lib\\site-packages (from google-api-python-client) (0.22.0)\n",
      "Requirement already satisfied: google-auth!=2.24.0,!=2.25.0,<3.0.0.dev0,>=1.32.0 in c:\\users\\hartm\\anaconda3\\lib\\site-packages (from google-api-python-client) (2.29.0)\n",
      "Requirement already satisfied: google-auth-httplib2<1.0.0,>=0.2.0 in c:\\users\\hartm\\anaconda3\\lib\\site-packages (from google-api-python-client) (0.2.0)\n",
      "Requirement already satisfied: google-api-core!=2.0.*,!=2.1.*,!=2.2.*,!=2.3.0,<3.0.0.dev0,>=1.31.5 in c:\\users\\hartm\\anaconda3\\lib\\site-packages (from google-api-python-client) (2.18.0)\n",
      "Requirement already satisfied: uritemplate<5,>=3.0.1 in c:\\users\\hartm\\anaconda3\\lib\\site-packages (from google-api-python-client) (4.1.1)\n",
      "Requirement already satisfied: googleapis-common-protos<2.0.dev0,>=1.56.2 in c:\\users\\hartm\\anaconda3\\lib\\site-packages (from google-api-core!=2.0.*,!=2.1.*,!=2.2.*,!=2.3.0,<3.0.0.dev0,>=1.31.5->google-api-python-client) (1.63.0)\n",
      "Requirement already satisfied: protobuf!=3.20.0,!=3.20.1,!=4.21.0,!=4.21.1,!=4.21.2,!=4.21.3,!=4.21.4,!=4.21.5,<5.0.0.dev0,>=3.19.5 in c:\\users\\hartm\\anaconda3\\lib\\site-packages (from google-api-core!=2.0.*,!=2.1.*,!=2.2.*,!=2.3.0,<3.0.0.dev0,>=1.31.5->google-api-python-client) (4.25.3)\n",
      "Requirement already satisfied: proto-plus<2.0.0dev,>=1.22.3 in c:\\users\\hartm\\anaconda3\\lib\\site-packages (from google-api-core!=2.0.*,!=2.1.*,!=2.2.*,!=2.3.0,<3.0.0.dev0,>=1.31.5->google-api-python-client) (1.23.0)\n",
      "Requirement already satisfied: requests<3.0.0.dev0,>=2.18.0 in c:\\users\\hartm\\anaconda3\\lib\\site-packages (from google-api-core!=2.0.*,!=2.1.*,!=2.2.*,!=2.3.0,<3.0.0.dev0,>=1.31.5->google-api-python-client) (2.31.0)\n",
      "Requirement already satisfied: cachetools<6.0,>=2.0.0 in c:\\users\\hartm\\anaconda3\\lib\\site-packages (from google-auth!=2.24.0,!=2.25.0,<3.0.0.dev0,>=1.32.0->google-api-python-client) (4.2.2)\n",
      "Requirement already satisfied: pyasn1-modules>=0.2.1 in c:\\users\\hartm\\anaconda3\\lib\\site-packages (from google-auth!=2.24.0,!=2.25.0,<3.0.0.dev0,>=1.32.0->google-api-python-client) (0.2.8)\n",
      "Requirement already satisfied: rsa<5,>=3.1.4 in c:\\users\\hartm\\anaconda3\\lib\\site-packages (from google-auth!=2.24.0,!=2.25.0,<3.0.0.dev0,>=1.32.0->google-api-python-client) (4.9)\n",
      "Requirement already satisfied: pyparsing!=3.0.0,!=3.0.1,!=3.0.2,!=3.0.3,<4,>=2.4.2 in c:\\users\\hartm\\anaconda3\\lib\\site-packages (from httplib2<1.dev0,>=0.19.0->google-api-python-client) (3.0.9)\n",
      "Requirement already satisfied: pyasn1<0.5.0,>=0.4.6 in c:\\users\\hartm\\anaconda3\\lib\\site-packages (from pyasn1-modules>=0.2.1->google-auth!=2.24.0,!=2.25.0,<3.0.0.dev0,>=1.32.0->google-api-python-client) (0.4.8)\n",
      "Requirement already satisfied: charset-normalizer<4,>=2 in c:\\users\\hartm\\anaconda3\\lib\\site-packages (from requests<3.0.0.dev0,>=2.18.0->google-api-core!=2.0.*,!=2.1.*,!=2.2.*,!=2.3.0,<3.0.0.dev0,>=1.31.5->google-api-python-client) (2.0.4)\n",
      "Requirement already satisfied: idna<4,>=2.5 in c:\\users\\hartm\\anaconda3\\lib\\site-packages (from requests<3.0.0.dev0,>=2.18.0->google-api-core!=2.0.*,!=2.1.*,!=2.2.*,!=2.3.0,<3.0.0.dev0,>=1.31.5->google-api-python-client) (3.4)\n",
      "Requirement already satisfied: urllib3<3,>=1.21.1 in c:\\users\\hartm\\anaconda3\\lib\\site-packages (from requests<3.0.0.dev0,>=2.18.0->google-api-core!=2.0.*,!=2.1.*,!=2.2.*,!=2.3.0,<3.0.0.dev0,>=1.31.5->google-api-python-client) (2.0.7)\n",
      "Requirement already satisfied: certifi>=2017.4.17 in c:\\users\\hartm\\anaconda3\\lib\\site-packages (from requests<3.0.0.dev0,>=2.18.0->google-api-core!=2.0.*,!=2.1.*,!=2.2.*,!=2.3.0,<3.0.0.dev0,>=1.31.5->google-api-python-client) (2024.2.2)\n"
     ]
    }
   ],
   "source": [
    "!pip install google-api-python-client"
   ]
  },
  {
   "cell_type": "code",
   "execution_count": null,
   "id": "9e661c4b-31b9-476c-b09f-ed57053bc50b",
   "metadata": {},
   "outputs": [],
   "source": [
    "■新しい検索エンジンを作成\n",
    "１．以下にアクセス\n",
    "https://programmablesearchengine.google.com/about/\n",
    "\n",
    "２．検索エンジンを作成\n",
    "#途中で出てきたリンク\n",
    "<script async src=\"https://cse.google.com/cse.js?cx=4188df3702d2e4838\">\n",
    "</script>\n",
    "<div class=\"gcse-search\"></div>\n",
    "\n",
    "３．カスタマイズ押して検索エンジンIDコピー\n",
    "XXXXXXXXXXXXX\n",
    "\n",
    "４．プログラマティックなアクセスで開始ボタン\n",
    "1 日あたり 10,000 クエリを上限とします【開始する】\n",
    "\n",
    "５．キーを取得\n",
    "XXXXXXXXXXXXX"
   ]
  },
  {
   "cell_type": "code",
   "execution_count": 1,
   "id": "c398bffa-7ea5-4a59-9c80-805d26a2a4dc",
   "metadata": {},
   "outputs": [],
   "source": [
    "from langchain.agents import initialize_agent, Tool\n",
    "from langchain.utilities import GoogleSearchAPIWrapper\n",
    "from langchain.prompts import PromptTemplate\n",
    "from langchain.agents import AgentType\n",
    "from langchain.chat_models import ChatOpenAI\n",
    "import os"
   ]
  },
  {
   "cell_type": "code",
   "execution_count": 14,
   "id": "29fff228-5535-48a8-8e78-dee03fe25884",
   "metadata": {},
   "outputs": [],
   "source": [
    "os.environ['GOOGLE_CSE_ID'] = 'XXXXXXXXXXXXX'\n",
    "os.environ['GOOGLE_API_KEY'] = 'XXXXXXXXXXXXX'"
   ]
  },
  {
   "cell_type": "code",
   "execution_count": 15,
   "id": "e00bcd73-d4be-4dca-8331-d3f659d126cb",
   "metadata": {},
   "outputs": [
    {
     "data": {
      "text/plain": [
       "'歴代内閣の情報をご覧になれます。 Apr 5, 2024 ... 日本の総理大臣による公式訪米としては9年ぶりとなります。 岸田総理大臣は、ワシントンD.C.では、4月10日に日米首脳会談や公式晩餐会\\xa0... 首相官邸のホームページです。内閣や総理大臣に関する情報をご覧になれます。 Aug 2, 2022 ... 7月31日から8月1日にかけて、岸田文雄内閣総理大臣は米国を訪問し、日本の総理大臣として初めて、第10回核兵器不拡散条約（NPT）運用検討会議に出席\\xa0... 岸田 文雄 きしだ ふみお. 第100代. 内閣総理大臣. 顔写真：岸田文雄. プロフィール. 生年月日\\xa0... 内閣総理大臣（ないかくそうりだいじん、英: Prime Minister）は、日本の内閣の首長たる国務大臣。文民である国会議員が就任し、その地位及び権限は日本国憲法や内閣法\\xa0... Jun 29, 2022 ... 現地時間6月29日午後、スペインを訪問中の岸田文雄内閣総理大臣は、NATO首脳会合に出席したところ、概要は以下のとおりです。 今回のNATO首脳会合への\\xa0... 内閣総理大臣一覧. 歴代. 氏名. 在職期間. 日数 出身県. 国内外のおもなできごと （ ）内は年代. 1 伊藤博文（第1次）. 1885年12月～1888年4月. 861 山口県 帝国大学令公布\\xa0... May 3, 2015 ... （2）日米同盟の一層の強化と日米首脳間の絆の確認. オバマ大統領とリンカーン記念館を散策する安倍総理大臣（写真提供：内閣広報室）. 第101代内閣総理大臣。第27代自民党総裁。 いま日本は大きな岐路に立っています。世界のリーダーと共に平和と世界秩序、価値観を守るために結束し、新しい資本主義で\\xa0...'"
      ]
     },
     "execution_count": 15,
     "metadata": {},
     "output_type": "execute_result"
    }
   ],
   "source": [
    "#GoogleSearchAPIWrapperのテスト\n",
    "from langchain_community.utilities import GoogleSearchAPIWrapper\n",
    "from langchain_core.tools import Tool\n",
    "\n",
    "search = GoogleSearchAPIWrapper()\n",
    "\n",
    "tool = Tool(\n",
    "    name=\"google_search\",\n",
    "    description=\"Search Google for recent results.\",\n",
    "    func=search.run,\n",
    ")\n",
    "\n",
    "tool.run(\"日本の総理大臣は？\")"
   ]
  },
  {
   "cell_type": "code",
   "execution_count": 3,
   "id": "67a46dee-0d1b-4249-8eac-d43d875921d5",
   "metadata": {},
   "outputs": [],
   "source": [
    "def create_prompt(user_input):\n",
    "    prompt = PromptTemplate(\n",
    "        input_variables=[\"theme\"],\n",
    "        template=\"\"\"\n",
    "        あなたはニュース記事を書くブロガーです。\n",
    "        下記のテーマについて、Google検索で最新情報を取得し、取得した\n",
    "        情報に基づいてニュース記事を書いてください。\n",
    "        1000文字以上で、日本語で出力してください。\n",
    "        記事の末尾に参考にしたURLを参照元としてタイトルと\n",
    "        URLを出力してください。\n",
    "        ###\n",
    "        テーマ:{theme}\n",
    "        \"\"\"\n",
    "    )\n",
    "    return prompt.format(theme=user_input)"
   ]
  },
  {
   "cell_type": "code",
   "execution_count": 25,
   "id": "92457415-71d7-4a85-b890-3ce8b9408d9d",
   "metadata": {},
   "outputs": [],
   "source": [
    "#プロンプト例その２\n",
    "def create_prompt(user_input):\n",
    "    prompt = PromptTemplate(\n",
    "        input_variables=[\"theme\"],\n",
    "        template=\"\"\"\n",
    "        あなたはニュース記事を書く英国圏のブロガーです。\n",
    "        下記のテーマについて、英語Google検索で最新情報を取得し、取得した\n",
    "        情報に基づいてリストを作成し、日本語で出力してください。\n",
    "        リストにはサービス名と公式URL、サービス概要を含めてください。\n",
    "        ###\n",
    "        テーマ:{theme}\n",
    "        \"\"\"\n",
    "    )\n",
    "    return prompt.format(theme=user_input)"
   ]
  },
  {
   "cell_type": "code",
   "execution_count": 26,
   "id": "9c21df0f-b40b-4570-bfc7-0bcc127d6635",
   "metadata": {},
   "outputs": [],
   "source": [
    "#プロンプト例その３\n",
    "def create_prompt(user_input):\n",
    "    prompt = PromptTemplate(\n",
    "        input_variables=[\"theme\"],\n",
    "        template=\"\"\"\n",
    "        あなたはニュース記事を書く英国圏のブロガーです。\n",
    "        下記のテーマについて、英語Google検索で最新情報を取得し、取得した\n",
    "        内容に基づいて要約してください。\n",
    "        ###\n",
    "        テーマ:{theme}\n",
    "        \"\"\"\n",
    "    )\n",
    "    return prompt.format(theme=user_input)"
   ]
  },
  {
   "cell_type": "code",
   "execution_count": 16,
   "id": "89ffa388-3d74-4bdc-bbcd-5cf064fd8ddd",
   "metadata": {},
   "outputs": [],
   "source": [
    "def define_tools():\n",
    "    search = GoogleSearchAPIWrapper()\n",
    "    return[\n",
    "        Tool(\n",
    "            name=\"Search\",\n",
    "            func=search.run,\n",
    "            description=\"useful when you need to answer questions about current events. \\\n",
    "            You should ask tageted questions\"\n",
    "        ),\n",
    "    ]"
   ]
  },
  {
   "cell_type": "code",
   "execution_count": 17,
   "id": "012ced1f-b4b9-441e-8f71-2b725fd5b526",
   "metadata": {},
   "outputs": [],
   "source": [
    "def write_response_to_file(response, filemame):\n",
    "    with open(filemame, 'w', encoding='utf-8') as file:\n",
    "        file.write(response)\n",
    "    print(\"出力が完了しました\")"
   ]
  },
  {
   "cell_type": "code",
   "execution_count": null,
   "id": "90553549-ee09-4cae-9539-e228582756f9",
   "metadata": {},
   "outputs": [],
   "source": [
    "#OpenAIの場合\n",
    "def OpenAI_main():\n",
    "    llm = ChatOpenAI(temperature=0, model=\"gpt-3.5-turbo\", max_tokens=2000)\n",
    "    tools = define_tools()\n",
    "    agent = initialize_agent(tools, llm, agent=AgentType.OPENAI_FUNCTIONS)\n",
    "    prompt = create_prompt(input(\"記事のテーマを入力してください：\"))\n",
    "    response = agent.run(prompt)\n",
    "    write_response_to_file(response, 'output.txt')\n",
    "\n",
    "if __name__ == \"__main__\":\n",
    "    main()"
   ]
  },
  {
   "cell_type": "code",
   "execution_count": 23,
   "id": "eec9f942-2df2-4608-beab-b5227f74c4c7",
   "metadata": {},
   "outputs": [],
   "source": [
    "#Geminiの場合\n",
    "from langchain_google_genai import ChatGoogleGenerativeAI\n",
    "\n",
    "def Gemini_main():\n",
    "    llm = ChatGoogleGenerativeAI(temperature=0, model=\"gemini-pro\", max_output_tokens=2000, apiKey='XXXXX')\n",
    "    tools = define_tools()\n",
    "    agent = initialize_agent(tools, llm, agent=AgentType.ZERO_SHOT_REACT_DESCRIPTION)\n",
    "    #prompt = create_prompt(input(\"記事のテーマを入力してください：\"))\n",
    "    prompt = create_prompt(\"日本の総理大臣は？\")\n",
    "    response = agent.run(prompt)\n",
    "    write_response_to_file(response, 'output.txt')"
   ]
  },
  {
   "cell_type": "code",
   "execution_count": null,
   "id": "70a0eff0-8fb1-470c-aeaa-ff7f6307703d",
   "metadata": {},
   "outputs": [],
   "source": [
    "Gemini_main()"
   ]
  },
  {
   "cell_type": "code",
   "execution_count": null,
   "id": "80fa09f2-8e77-4153-8bf7-18f7cf4fc736",
   "metadata": {},
   "outputs": [],
   "source": []
  }
 ],
 "metadata": {
  "kernelspec": {
   "display_name": "Python 3 (ipykernel)",
   "language": "python",
   "name": "python3"
  },
  "language_info": {
   "codemirror_mode": {
    "name": "ipython",
    "version": 3
   },
   "file_extension": ".py",
   "mimetype": "text/x-python",
   "name": "python",
   "nbconvert_exporter": "python",
   "pygments_lexer": "ipython3",
   "version": "3.11.7"
  }
 },
 "nbformat": 4,
 "nbformat_minor": 5
}
