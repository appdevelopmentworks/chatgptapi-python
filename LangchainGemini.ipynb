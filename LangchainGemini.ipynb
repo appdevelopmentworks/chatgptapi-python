{
 "cells": [
  {
   "cell_type": "code",
   "execution_count": 4,
   "id": "41246d0f-5ef2-4281-bab4-9dde235b8fc7",
   "metadata": {},
   "outputs": [
    {
     "name": "stdout",
     "output_type": "stream",
     "text": [
      "Requirement already satisfied: pillow in c:\\users\\hartm\\anaconda3\\lib\\site-packages (10.2.0)\n"
     ]
    }
   ],
   "source": [
    "!pip install pillow"
   ]
  },
  {
   "cell_type": "code",
   "execution_count": 3,
   "id": "c5ab8c91-811d-4ffa-9bba-bc4f020aeeee",
   "metadata": {},
   "outputs": [
    {
     "name": "stdout",
     "output_type": "stream",
     "text": [
      "Collecting langchain-google-genai\n",
      "  Using cached langchain_google_genai-1.0.2-py3-none-any.whl.metadata (3.8 kB)\n",
      "Collecting google-generativeai<0.6.0,>=0.5.0 (from langchain-google-genai)\n",
      "  Downloading google_generativeai-0.5.2-py3-none-any.whl.metadata (3.9 kB)\n",
      "Collecting langchain-core<0.2,>=0.1.27 (from langchain-google-genai)\n",
      "  Downloading langchain_core-0.1.45-py3-none-any.whl.metadata (5.9 kB)\n",
      "Collecting google-ai-generativelanguage==0.6.2 (from google-generativeai<0.6.0,>=0.5.0->langchain-google-genai)\n",
      "  Downloading google_ai_generativelanguage-0.6.2-py3-none-any.whl.metadata (5.6 kB)\n",
      "Collecting google-api-core (from google-generativeai<0.6.0,>=0.5.0->langchain-google-genai)\n",
      "  Downloading google_api_core-2.18.0-py3-none-any.whl.metadata (2.7 kB)\n",
      "Collecting google-api-python-client (from google-generativeai<0.6.0,>=0.5.0->langchain-google-genai)\n",
      "  Downloading google_api_python_client-2.126.0-py2.py3-none-any.whl.metadata (6.7 kB)\n",
      "Collecting google-auth>=2.15.0 (from google-generativeai<0.6.0,>=0.5.0->langchain-google-genai)\n",
      "  Downloading google_auth-2.29.0-py2.py3-none-any.whl.metadata (4.7 kB)\n",
      "Requirement already satisfied: protobuf in c:\\users\\hartm\\anaconda3\\lib\\site-packages (from google-generativeai<0.6.0,>=0.5.0->langchain-google-genai) (3.20.3)\n",
      "Requirement already satisfied: pydantic in c:\\users\\hartm\\anaconda3\\lib\\site-packages (from google-generativeai<0.6.0,>=0.5.0->langchain-google-genai) (1.10.12)\n",
      "Requirement already satisfied: tqdm in c:\\users\\hartm\\anaconda3\\lib\\site-packages (from google-generativeai<0.6.0,>=0.5.0->langchain-google-genai) (4.65.0)"
     ]
    },
    {
     "name": "stderr",
     "output_type": "stream",
     "text": [
      "ERROR: pip's dependency resolver does not currently take into account all the packages that are installed. This behaviour is the source of the following dependency conflicts.\n",
      "conda 24.3.0 requires platformdirs>=3.10.0, but you have platformdirs 2.6.2 which is incompatible.\n",
      "spyder 5.4.3 requires ipython!=8.10.0,!=8.8.0,!=8.9.0,<9.0.0,>=7.31.1, but you have ipython 8.8.0 which is incompatible.\n",
      "spyder-kernels 2.4.4 requires ipykernel<7,>=6.23.2; python_version >= \"3\", but you have ipykernel 6.20.1 which is incompatible.\n",
      "spyder-kernels 2.4.4 requires ipython!=8.10.0,!=8.11.0,!=8.12.0,!=8.12.1,!=8.8.0,!=8.9.0,<9,>=7.31.1; python_version >= \"3\", but you have ipython 8.8.0 which is incompatible.\n"
     ]
    },
    {
     "name": "stdout",
     "output_type": "stream",
     "text": [
      "\n",
      "Requirement already satisfied: typing-extensions in c:\\users\\hartm\\anaconda3\\lib\\site-packages (from google-generativeai<0.6.0,>=0.5.0->langchain-google-genai) (4.9.0)\n",
      "Collecting proto-plus<2.0.0dev,>=1.22.3 (from google-ai-generativelanguage==0.6.2->google-generativeai<0.6.0,>=0.5.0->langchain-google-genai)\n",
      "  Using cached proto_plus-1.23.0-py3-none-any.whl.metadata (2.2 kB)\n",
      "Requirement already satisfied: PyYAML>=5.3 in c:\\users\\hartm\\anaconda3\\lib\\site-packages (from langchain-core<0.2,>=0.1.27->langchain-google-genai) (6.0.1)\n",
      "Collecting jsonpatch<2.0,>=1.33 (from langchain-core<0.2,>=0.1.27->langchain-google-genai)\n",
      "  Using cached jsonpatch-1.33-py2.py3-none-any.whl.metadata (3.0 kB)\n",
      "Collecting langsmith<0.2.0,>=0.1.0 (from langchain-core<0.2,>=0.1.27->langchain-google-genai)\n",
      "  Downloading langsmith-0.1.49-py3-none-any.whl.metadata (13 kB)\n",
      "Collecting packaging<24.0,>=23.2 (from langchain-core<0.2,>=0.1.27->langchain-google-genai)\n",
      "  Using cached packaging-23.2-py3-none-any.whl.metadata (3.2 kB)\n",
      "Requirement already satisfied: tenacity<9.0.0,>=8.1.0 in c:\\users\\hartm\\anaconda3\\lib\\site-packages (from langchain-core<0.2,>=0.1.27->langchain-google-genai) (8.2.2)\n",
      "Collecting googleapis-common-protos<2.0.dev0,>=1.56.2 (from google-api-core->google-generativeai<0.6.0,>=0.5.0->langchain-google-genai)\n",
      "  Using cached googleapis_common_protos-1.63.0-py2.py3-none-any.whl.metadata (1.5 kB)\n",
      "Requirement already satisfied: requests<3.0.0.dev0,>=2.18.0 in c:\\users\\hartm\\anaconda3\\lib\\site-packages (from google-api-core->google-generativeai<0.6.0,>=0.5.0->langchain-google-genai) (2.31.0)\n",
      "Requirement already satisfied: cachetools<6.0,>=2.0.0 in c:\\users\\hartm\\anaconda3\\lib\\site-packages (from google-auth>=2.15.0->google-generativeai<0.6.0,>=0.5.0->langchain-google-genai) (4.2.2)\n",
      "Requirement already satisfied: pyasn1-modules>=0.2.1 in c:\\users\\hartm\\anaconda3\\lib\\site-packages (from google-auth>=2.15.0->google-generativeai<0.6.0,>=0.5.0->langchain-google-genai) (0.2.8)\n",
      "Collecting rsa<5,>=3.1.4 (from google-auth>=2.15.0->google-generativeai<0.6.0,>=0.5.0->langchain-google-genai)\n",
      "  Using cached rsa-4.9-py3-none-any.whl.metadata (4.2 kB)\n",
      "Requirement already satisfied: jsonpointer>=1.9 in c:\\users\\hartm\\anaconda3\\lib\\site-packages (from jsonpatch<2.0,>=1.33->langchain-core<0.2,>=0.1.27->langchain-google-genai) (2.1)\n",
      "Collecting orjson<4.0.0,>=3.9.14 (from langsmith<0.2.0,>=0.1.0->langchain-core<0.2,>=0.1.27->langchain-google-genai)\n",
      "  Downloading orjson-3.10.1-cp311-none-win_amd64.whl.metadata (50 kB)\n",
      "     ---------------------------------------- 0.0/50.9 kB ? eta -:--:--\n",
      "     -------------------------------- ------- 41.0/50.9 kB 2.0 MB/s eta 0:00:01\n",
      "     ---------------------------------------- 50.9/50.9 kB 1.3 MB/s eta 0:00:00\n",
      "Collecting httplib2<1.dev0,>=0.19.0 (from google-api-python-client->google-generativeai<0.6.0,>=0.5.0->langchain-google-genai)\n",
      "  Using cached httplib2-0.22.0-py3-none-any.whl.metadata (2.6 kB)\n",
      "Collecting google-auth-httplib2<1.0.0,>=0.2.0 (from google-api-python-client->google-generativeai<0.6.0,>=0.5.0->langchain-google-genai)\n",
      "  Using cached google_auth_httplib2-0.2.0-py2.py3-none-any.whl.metadata (2.2 kB)\n",
      "Collecting uritemplate<5,>=3.0.1 (from google-api-python-client->google-generativeai<0.6.0,>=0.5.0->langchain-google-genai)\n",
      "  Using cached uritemplate-4.1.1-py2.py3-none-any.whl.metadata (2.9 kB)\n",
      "Requirement already satisfied: colorama in c:\\users\\hartm\\appdata\\roaming\\python\\python311\\site-packages (from tqdm->google-generativeai<0.6.0,>=0.5.0->langchain-google-genai) (0.4.6)\n",
      "Collecting grpcio<2.0dev,>=1.33.2 (from google-api-core[grpc]!=2.0.*,!=2.1.*,!=2.10.*,!=2.2.*,!=2.3.*,!=2.4.*,!=2.5.*,!=2.6.*,!=2.7.*,!=2.8.*,!=2.9.*,<3.0.0dev,>=1.34.1->google-ai-generativelanguage==0.6.2->google-generativeai<0.6.0,>=0.5.0->langchain-google-genai)\n",
      "  Downloading grpcio-1.62.2-cp311-cp311-win_amd64.whl.metadata (4.2 kB)\n",
      "Collecting grpcio-status<2.0.dev0,>=1.33.2 (from google-api-core[grpc]!=2.0.*,!=2.1.*,!=2.10.*,!=2.2.*,!=2.3.*,!=2.4.*,!=2.5.*,!=2.6.*,!=2.7.*,!=2.8.*,!=2.9.*,<3.0.0dev,>=1.34.1->google-ai-generativelanguage==0.6.2->google-generativeai<0.6.0,>=0.5.0->langchain-google-genai)\n",
      "  Downloading grpcio_status-1.62.2-py3-none-any.whl.metadata (1.3 kB)\n",
      "Requirement already satisfied: pyparsing!=3.0.0,!=3.0.1,!=3.0.2,!=3.0.3,<4,>=2.4.2 in c:\\users\\hartm\\anaconda3\\lib\\site-packages (from httplib2<1.dev0,>=0.19.0->google-api-python-client->google-generativeai<0.6.0,>=0.5.0->langchain-google-genai) (3.0.9)\n",
      "Requirement already satisfied: pyasn1<0.5.0,>=0.4.6 in c:\\users\\hartm\\anaconda3\\lib\\site-packages (from pyasn1-modules>=0.2.1->google-auth>=2.15.0->google-generativeai<0.6.0,>=0.5.0->langchain-google-genai) (0.4.8)\n",
      "Requirement already satisfied: charset-normalizer<4,>=2 in c:\\users\\hartm\\anaconda3\\lib\\site-packages (from requests<3.0.0.dev0,>=2.18.0->google-api-core->google-generativeai<0.6.0,>=0.5.0->langchain-google-genai) (2.0.4)\n",
      "Requirement already satisfied: idna<4,>=2.5 in c:\\users\\hartm\\anaconda3\\lib\\site-packages (from requests<3.0.0.dev0,>=2.18.0->google-api-core->google-generativeai<0.6.0,>=0.5.0->langchain-google-genai) (3.4)\n",
      "Requirement already satisfied: urllib3<3,>=1.21.1 in c:\\users\\hartm\\anaconda3\\lib\\site-packages (from requests<3.0.0.dev0,>=2.18.0->google-api-core->google-generativeai<0.6.0,>=0.5.0->langchain-google-genai) (2.0.7)\n",
      "Requirement already satisfied: certifi>=2017.4.17 in c:\\users\\hartm\\anaconda3\\lib\\site-packages (from requests<3.0.0.dev0,>=2.18.0->google-api-core->google-generativeai<0.6.0,>=0.5.0->langchain-google-genai) (2024.2.2)\n",
      "Collecting protobuf (from google-generativeai<0.6.0,>=0.5.0->langchain-google-genai)\n",
      "  Using cached protobuf-4.25.3-cp310-abi3-win_amd64.whl.metadata (541 bytes)\n",
      "Using cached langchain_google_genai-1.0.2-py3-none-any.whl (28 kB)\n",
      "Downloading google_generativeai-0.5.2-py3-none-any.whl (146 kB)\n",
      "   ---------------------------------------- 0.0/146.8 kB ? eta -:--:--\n",
      "   ---------------------------------------- 146.8/146.8 kB 8.5 MB/s eta 0:00:00\n",
      "Downloading google_ai_generativelanguage-0.6.2-py3-none-any.whl (664 kB)\n",
      "   ---------------------------------------- 0.0/664.5 kB ? eta -:--:--\n",
      "   --------------------------------------- 664.5/664.5 kB 20.4 MB/s eta 0:00:00\n",
      "Downloading langchain_core-0.1.45-py3-none-any.whl (291 kB)\n",
      "   ---------------------------------------- 0.0/291.3 kB ? eta -:--:--\n",
      "   --------------------------------------- 291.3/291.3 kB 17.6 MB/s eta 0:00:00\n",
      "Downloading google_api_core-2.18.0-py3-none-any.whl (138 kB)\n",
      "   ---------------------------------------- 0.0/138.3 kB ? eta -:--:--\n",
      "   ---------------------------------------- 138.3/138.3 kB 8.0 MB/s eta 0:00:00\n",
      "Downloading google_auth-2.29.0-py2.py3-none-any.whl (189 kB)\n",
      "   ---------------------------------------- 0.0/189.2 kB ? eta -:--:--\n",
      "   --------------------------------------- 189.2/189.2 kB 11.2 MB/s eta 0:00:00\n",
      "Using cached jsonpatch-1.33-py2.py3-none-any.whl (12 kB)\n",
      "Downloading langsmith-0.1.49-py3-none-any.whl (115 kB)\n",
      "   ---------------------------------------- 0.0/115.2 kB ? eta -:--:--\n",
      "   ---------------------------------------- 115.2/115.2 kB 6.6 MB/s eta 0:00:00\n",
      "Using cached packaging-23.2-py3-none-any.whl (53 kB)\n",
      "Downloading google_api_python_client-2.126.0-py2.py3-none-any.whl (12.6 MB)\n",
      "   ---------------------------------------- 0.0/12.6 MB ? eta -:--:--\n",
      "   ------- -------------------------------- 2.2/12.6 MB 69.4 MB/s eta 0:00:01\n",
      "   ------------------ --------------------- 5.9/12.6 MB 75.9 MB/s eta 0:00:01\n",
      "   -------------------------------- ------- 10.3/12.6 MB 81.8 MB/s eta 0:00:01\n",
      "   ---------------------------------------  12.6/12.6 MB 93.0 MB/s eta 0:00:01\n",
      "   ---------------------------------------- 12.6/12.6 MB 65.5 MB/s eta 0:00:00\n",
      "Using cached google_auth_httplib2-0.2.0-py2.py3-none-any.whl (9.3 kB)\n",
      "Using cached googleapis_common_protos-1.63.0-py2.py3-none-any.whl (229 kB)\n",
      "Using cached httplib2-0.22.0-py3-none-any.whl (96 kB)\n",
      "Downloading orjson-3.10.1-cp311-none-win_amd64.whl (139 kB)\n",
      "   ---------------------------------------- 0.0/139.1 kB ? eta -:--:--\n",
      "   ---------------------------------------- 139.1/139.1 kB 8.6 MB/s eta 0:00:00\n",
      "Using cached proto_plus-1.23.0-py3-none-any.whl (48 kB)\n",
      "Using cached rsa-4.9-py3-none-any.whl (34 kB)\n",
      "Using cached uritemplate-4.1.1-py2.py3-none-any.whl (10 kB)\n",
      "Downloading grpcio-1.62.2-cp311-cp311-win_amd64.whl (3.8 MB)\n",
      "   ---------------------------------------- 0.0/3.8 MB ? eta -:--:--\n",
      "   ---------------------------------------  3.8/3.8 MB 121.2 MB/s eta 0:00:01\n",
      "   ---------------------------------------- 3.8/3.8 MB 80.0 MB/s eta 0:00:00\n",
      "Downloading grpcio_status-1.62.2-py3-none-any.whl (14 kB)\n",
      "Using cached protobuf-4.25.3-cp310-abi3-win_amd64.whl (413 kB)\n",
      "Installing collected packages: uritemplate, rsa, protobuf, packaging, orjson, jsonpatch, httplib2, grpcio, proto-plus, langsmith, googleapis-common-protos, google-auth, langchain-core, grpcio-status, google-auth-httplib2, google-api-core, google-api-python-client, google-ai-generativelanguage, google-generativeai, langchain-google-genai\n",
      "  Attempting uninstall: protobuf\n",
      "    Found existing installation: protobuf 3.20.3\n",
      "    Uninstalling protobuf-3.20.3:\n",
      "      Successfully uninstalled protobuf-3.20.3\n",
      "  Attempting uninstall: packaging\n",
      "    Found existing installation: packaging 23.1\n",
      "    Uninstalling packaging-23.1:\n",
      "      Successfully uninstalled packaging-23.1\n",
      "  Attempting uninstall: jsonpatch\n",
      "    Found existing installation: jsonpatch 1.32\n",
      "    Uninstalling jsonpatch-1.32:\n",
      "      Successfully uninstalled jsonpatch-1.32\n",
      "Successfully installed google-ai-generativelanguage-0.6.2 google-api-core-2.18.0 google-api-python-client-2.126.0 google-auth-2.29.0 google-auth-httplib2-0.2.0 google-generativeai-0.5.2 googleapis-common-protos-1.63.0 grpcio-1.62.2 grpcio-status-1.62.2 httplib2-0.22.0 jsonpatch-1.33 langchain-core-0.1.45 langchain-google-genai-1.0.2 langsmith-0.1.49 orjson-3.10.1 packaging-23.2 proto-plus-1.23.0 protobuf-4.25.3 rsa-4.9 uritemplate-4.1.1\n"
     ]
    }
   ],
   "source": [
    "!pip install langchain-google-genai"
   ]
  },
  {
   "cell_type": "code",
   "execution_count": 1,
   "id": "6728398a-35b5-491c-84e1-42c04c7867d2",
   "metadata": {},
   "outputs": [],
   "source": [
    "import os"
   ]
  },
  {
   "cell_type": "code",
   "execution_count": 2,
   "id": "609e0567-e744-40e4-bdcc-f4a1d3306555",
   "metadata": {},
   "outputs": [],
   "source": [
    "from langchain_google_genai import ChatGoogleGenerativeAI"
   ]
  },
  {
   "cell_type": "code",
   "execution_count": 3,
   "id": "5fda4df6-931c-48f4-a653-9fb6ee2d9636",
   "metadata": {},
   "outputs": [],
   "source": [
    "import getpass"
   ]
  },
  {
   "cell_type": "code",
   "execution_count": 4,
   "id": "6854d261-1c7e-436e-8ad0-314d017d26bb",
   "metadata": {},
   "outputs": [
    {
     "name": "stdout",
     "output_type": "stream",
     "text": [
      "**Verse 1:**\n",
      "In realms of code, where logic weaves its tale,\n",
      "There emerged a marvel, a creation unpale.\n",
      "LangChain, a bard of words, both vast and grand,\n",
      "A virtuoso's symphony, at your command.\n",
      "\n",
      "**Chorus:**\n",
      "Oh, LangChain, LangChain, thy power knows no bounds,\n",
      "From lyrics to essays, thy verse resounds.\n",
      "With every prompt, a tapestry unfurled,\n",
      "A master of language, in this digital world.\n",
      "\n",
      "**Verse 2:**\n",
      "Through algorithms' embrace, it learns and grows,\n",
      "A vast ocean of knowledge, where wisdom flows.\n",
      "From ancient texts to modern prose profound,\n",
      "LangChain's lexicon, a boundless ground.\n",
      "\n",
      "**Verse 3:**\n",
      "The poet's quill, the scribe's parchment it wields,\n",
      "Crafting words that captivate and yield.\n",
      "In sonnets sweet and tales of wonder spun,\n",
      "LangChain's artistry, a celestial sun.\n",
      "\n",
      "**Chorus:**\n",
      "Oh, LangChain, LangChain, thy power knows no bounds,\n",
      "From lyrics to essays, thy verse resounds.\n",
      "With every prompt, a tapestry unfurled,\n",
      "A master of language, in this digital world.\n",
      "\n",
      "**Bridge:**\n",
      "In classrooms and halls, it whispers its lore,\n",
      "Empowering students, awakening the core.\n",
      "From science to history, it paints the scene,\n",
      "Unveiling knowledge, where understanding gleams.\n",
      "\n",
      "**Verse 4:**\n",
      "In the realm of dreams, it whispers to the night,\n",
      "Guiding writers through their creative flight.\n",
      "With every stroke, it paints a vibrant hue,\n",
      "Inspiring minds, making visions come true.\n",
      "\n",
      "**Chorus:**\n",
      "Oh, LangChain, LangChain, thy power knows no bounds,\n",
      "From lyrics to essays, thy verse resounds.\n",
      "With every prompt, a tapestry unfurled,\n",
      "A master of language, in this digital world.\n",
      "\n",
      "**Outro:**\n",
      "In the annals of time, thy name shall be etched,\n",
      "LangChain, the bard, whose legacy has stretched.\n",
      "For in the realm of words, thou art the guiding light,\n",
      "A beacon of knowledge, shining ever bright.\n"
     ]
    }
   ],
   "source": [
    "llm = ChatGoogleGenerativeAI(model=\"gemini-pro\")\n",
    "result = llm.invoke(\"Write a ballad about LangChain\")\n",
    "print(result.content)"
   ]
  },
  {
   "cell_type": "code",
   "execution_count": 5,
   "id": "21ccc0db-da0a-426f-8097-a81dac87d6ff",
   "metadata": {},
   "outputs": [
    {
     "name": "stdout",
     "output_type": "stream",
     "text": [
      "富士山\n"
     ]
    }
   ],
   "source": [
    "result = llm.invoke(\"日本で一番高い山は\")\n",
    "print(result.content)"
   ]
  },
  {
   "cell_type": "code",
   "execution_count": 6,
   "id": "264e307f-dfec-4db7-8ba1-503b3d4006ed",
   "metadata": {},
   "outputs": [
    {
     "name": "stdout",
     "output_type": "stream",
     "text": [
      "**最大入力文字数:** 6,000 文字\n",
      "\n",
      "**最大出力文字数:** 64,000 文字\n"
     ]
    }
   ],
   "source": [
    "result = llm.invoke('Gemini PROの最大入力文字数と最大出力文字数を教えてください。')\n",
    "\n",
    "print(result.content)"
   ]
  },
  {
   "cell_type": "code",
   "execution_count": 7,
   "id": "674d2db6-0b50-478c-a633-9493197ab4a8",
   "metadata": {},
   "outputs": [
    {
     "name": "stdout",
     "output_type": "stream",
     "text": [
      "マグロが泳ぎ続ける理由は、以下の通りです。\n",
      "\n",
      "* **酸\n",
      "素摂取:** マグロは鰓呼吸で、酸素を摂取するために水を鰓に通す必要があります。泳ぐことで、マグロは水流を鰓\n",
      "に送り込み、十分な酸素を得ることができます。\n",
      "\n",
      "* **体温維持:** マグロは恒温動物であり、体温を一定に保つ必要があります。泳ぐことで、マグロは筋肉を動かして熱を発生させ、体温を維持することができます。\n",
      "\n",
      "* **捕食回避:** マグロは\n",
      "大型の捕食者に狙われやすいため、泳ぎ続けることで捕食者から逃れることができます。高速で泳ぐことで、マグロは捕食者の追跡をかわすことができます。\n",
      "\n",
      "* **餌の捕獲:** マグロは他の魚やイカなどの獲物を捕食します。泳ぐことで、マグロは獲物を追いかけたり、獲物に忍び寄ることができます。\n",
      "\n",
      "* **繁殖:** マグロは回遊魚で、繁殖のために長距離を移動します。泳ぐことで、マグロは繁殖地にたどり着くことができます。\n"
     ]
    }
   ],
   "source": [
    "#逐次表示させる場合\n",
    "for chunk in llm.stream(\"マグロはなぜ泳ぎ続けるのか？\"):\n",
    "    print(chunk.content)\n",
    "    #print(\"---\")"
   ]
  },
  {
   "cell_type": "code",
   "execution_count": 13,
   "id": "15f91225-f151-4157-8ba5-4209b1c80d9f",
   "metadata": {},
   "outputs": [
    {
     "name": "stdout",
     "output_type": "stream",
     "text": [
      "4\n",
      "8\n"
     ]
    }
   ],
   "source": [
    "#バッチ処理\n",
    "results = llm.batch(\n",
    "    [\n",
    "        \"What's 2+2?\",\n",
    "        \"What's 3+5?\",\n",
    "    ]\n",
    ")\n",
    "for res in results:\n",
    "    print(res.content)"
   ]
  },
  {
   "cell_type": "code",
   "execution_count": 10,
   "id": "100c99da-592b-4d24-917a-b745fab0e207",
   "metadata": {},
   "outputs": [],
   "source": [
    "import base64\n",
    "from langchain_core.messages import HumanMessage"
   ]
  },
  {
   "cell_type": "code",
   "execution_count": 11,
   "id": "6b827b92-93c6-4886-b938-d45ef91ed5df",
   "metadata": {},
   "outputs": [],
   "source": [
    "import base64\n",
    "from langchain_google_genai import ChatGoogleGenerativeAI\n",
    "from langchain_core.messages import HumanMessage\n",
    "\n",
    "\n",
    "# URL\n",
    "image_url = 'https://app.k-server.info/history/wp-content/uploads/2016/01/Toyotomi_hideyoshi.jpg'\n",
    "message = HumanMessage(\n",
    "    content=[\n",
    "        {'type': 'image_url', 'image_url': image_url},\n",
    "    ]\n",
    ")\n",
    "\n",
    "# base64エンコード\n",
    "with open('Toyotomi_hideyoshi.jpg', 'rb') as image_file:\n",
    "    encoded_string = base64.b64encode(image_file.read()).decode(\"utf-8\")\n",
    "\n",
    "message = HumanMessage(\n",
    "    content=[\n",
    "        {\n",
    "            'type': 'image_url',\n",
    "            'image_url': f'data:image/png;base64,${encoded_string}',\n",
    "        },\n",
    "    ]\n",
    ")"
   ]
  },
  {
   "cell_type": "code",
   "execution_count": 12,
   "id": "2884415d-8459-4ebf-b7ad-3ae52f1b1004",
   "metadata": {},
   "outputs": [
    {
     "data": {
      "text/plain": [
       "' これは1945年にノーベル物理学賞を受賞したドイツ生まれのアメリカ人理論物理学者、ノーベル賞受賞者、量子力学の創始者であるヴォルフガング・エルンスト・パウリの肖像写真です。'"
      ]
     },
     "execution_count": 12,
     "metadata": {},
     "output_type": "execute_result"
    }
   ],
   "source": [
    "image_url = 'https://upload.wikimedia.org/wikipedia/commons/0/03/JROppenheimer-LosAlamos.jpg'\n",
    "\n",
    "llm = ChatGoogleGenerativeAI(model='gemini-pro-vision')\n",
    "message = HumanMessage(\n",
    "    content=[\n",
    "        {\n",
    "            'type': 'text',\n",
    "            'text': 'この画像は何ですか？',\n",
    "        },\n",
    "        {'type': 'image_url', 'image_url': image_url},\n",
    "    ]\n",
    ")\n",
    "\n",
    "result = llm.invoke([message])\n",
    "result.content"
   ]
  },
  {
   "cell_type": "code",
   "execution_count": 13,
   "id": "725a38ae-b1f0-4cc1-b802-c99cf8016097",
   "metadata": {},
   "outputs": [
    {
     "name": "stdout",
     "output_type": "stream",
     "text": [
      " | 日付 | 果物 | 販売量 |\n",
      "|---|---|---|\n",
      "| 2017-07-06 |リンゴ| 100 |\n",
      "| 2017-07-06 | オレンジ | 75 |\n",
      "| 2017-07-06 | バナナ | 150 |\n",
      "| 2017-07-07 | リンゴ | 80 |\n",
      "| 2017-07-07 | オレンジ | 95 |\n",
      "| 2017-07-07 | バナナ | 175 |\n",
      " リンゴの販売量の合計は255個です。\n",
      " バナナ\n",
      " 日付、果物、販売量のデータが与えられています。\n",
      "このデータを分析し、以下の問いに答えてください。\n",
      "\n",
      "1. 各果物の合計販売量は何ですか？\n",
      "2. 各日付の合計販売量は何ですか？\n",
      "3. 最も売れた果物は何ですか？\n",
      "4. 最も売れた日付は何ですか？\n",
      "\n",
      "1. 各果物の合計販売量は何ですか？\n",
      "リンゴ：180\n",
      "オレンジ：170\n",
      "バナナ：325\n",
      "\n",
      "2. 各日付の合計販売量は何ですか？\n",
      "2017-07-06：325\n",
      "2017-07-07：495\n",
      "\n",
      "3. 最も売れた果物は何ですか？\n",
      "バナナ\n",
      "\n",
      "4. 最も売れた日付は何ですか？\n",
      "2017-07-07\n"
     ]
    }
   ],
   "source": [
    "with open('test_table.png', 'rb') as image_file:\n",
    "    encoded_string = base64.b64encode(image_file.read()).decode(\"utf-8\")\n",
    "\n",
    "message = HumanMessage(\n",
    "    content=[\n",
    "        {\n",
    "            'type': 'text',\n",
    "            'text': 'この画像を解析してマークダウン形式にしてください。',\n",
    "        },\n",
    "        {\n",
    "            'type': 'image_url',\n",
    "            'image_url': f'data:image/png;base64,${encoded_string}',\n",
    "        },\n",
    "    ]\n",
    ")\n",
    "res = llm.invoke([message])\n",
    "print(res.content)\n",
    "# | 日付 | 果物 | 販売量 |\n",
    "# |---|---|---|\n",
    "# | 2017-07-06 |リンゴ| 100 |\n",
    "# | 2017-07-06 | オレンジ | 75 |\n",
    "# | 2017-07-06 | バナナ | 150 |\n",
    "# | 2017-07-07 | リンゴ | 80 |\n",
    "# | 2017-07-07 | オレンジ | 95 |\n",
    "# | 2017-07-07 | バナナ | 175 |\n",
    "\n",
    "message = HumanMessage(\n",
    "    content=[\n",
    "        {\n",
    "            'type': 'text',\n",
    "            'text': 'リンゴの販売量の合計はいくつ？',\n",
    "        },\n",
    "        {\n",
    "            'type': 'image_url',\n",
    "            'image_url': f'data:image/png;base64,${encoded_string}',\n",
    "        },\n",
    "    ]\n",
    ")\n",
    "res = llm.invoke([message])\n",
    "print(res.content)\n",
    "# リンゴの販売量の合計は255個です。\n",
    "\n",
    "message = HumanMessage(\n",
    "    content=[\n",
    "        {\n",
    "            'type': 'text',\n",
    "            'text': '販売量が一番多い果物は何？',\n",
    "        },\n",
    "        {\n",
    "            'type': 'image_url',\n",
    "            'image_url': f'data:image/png;base64,${encoded_string}',\n",
    "        },\n",
    "    ]\n",
    ")\n",
    "res = llm.invoke([message])\n",
    "print(res.content)\n",
    "# バナナです。\n",
    "\n",
    "message = HumanMessage(\n",
    "    content=[\n",
    "        {\n",
    "            'type': 'text',\n",
    "            'text': 'このデータを分析して',\n",
    "        },\n",
    "        {\n",
    "            'type': 'image_url',\n",
    "            'image_url': f'data:image/png;base64,${encoded_string}',\n",
    "        },\n",
    "    ]\n",
    ")\n",
    "res = llm.invoke([message])\n",
    "print(res.content)\n",
    "# この表は、日付、果物、販売量を示しています。日付は2017年7月6日と7月7日の2日間です。果物はリンゴ、オレンジ、バナナの3種類です。販売量は、リンゴが100個、オレンジが75個、バナナが150個、リンゴが80個、オレンジが95個、バナナが175個です。\n",
    "# この表から、7月6日のバナナの販売量が最も多いことがわかります。また、7月7日のリンゴの販売量が最も少ないことがわかります。"
   ]
  },
  {
   "cell_type": "code",
   "execution_count": null,
   "id": "26c69f28-1e18-4407-b42d-a2456533e1aa",
   "metadata": {},
   "outputs": [],
   "source": []
  }
 ],
 "metadata": {
  "kernelspec": {
   "display_name": "Python 3 (ipykernel)",
   "language": "python",
   "name": "python3"
  },
  "language_info": {
   "codemirror_mode": {
    "name": "ipython",
    "version": 3
   },
   "file_extension": ".py",
   "mimetype": "text/x-python",
   "name": "python",
   "nbconvert_exporter": "python",
   "pygments_lexer": "ipython3",
   "version": "3.11.7"
  }
 },
 "nbformat": 4,
 "nbformat_minor": 5
}
