{
 "cells": [
  {
   "cell_type": "code",
   "execution_count": 1,
   "id": "404bc028-9463-4470-9ae5-4817f86305aa",
   "metadata": {},
   "outputs": [
    {
     "name": "stdout",
     "output_type": "stream",
     "text": [
      "Collecting tiktoken\n",
      "  Using cached tiktoken-0.6.0-cp311-cp311-win_amd64.whl.metadata (6.8 kB)\n",
      "Requirement already satisfied: regex>=2022.1.18 in c:\\users\\hartm\\anaconda3\\lib\\site-packages (from tiktoken) (2023.10.3)\n",
      "Requirement already satisfied: requests>=2.26.0 in c:\\users\\hartm\\anaconda3\\lib\\site-packages (from tiktoken) (2.31.0)\n",
      "Requirement already satisfied: charset-normalizer<4,>=2 in c:\\users\\hartm\\anaconda3\\lib\\site-packages (from requests>=2.26.0->tiktoken) (2.0.4)\n",
      "Requirement already satisfied: idna<4,>=2.5 in c:\\users\\hartm\\anaconda3\\lib\\site-packages (from requests>=2.26.0->tiktoken) (3.4)\n",
      "Requirement already satisfied: urllib3<3,>=1.21.1 in c:\\users\\hartm\\anaconda3\\lib\\site-packages (from requests>=2.26.0->tiktoken) (2.0.7)\n",
      "Requirement already satisfied: certifi>=2017.4.17 in c:\\users\\hartm\\anaconda3\\lib\\site-packages (from requests>=2.26.0->tiktoken) (2024.2.2)\n",
      "Using cached tiktoken-0.6.0-cp311-cp311-win_amd64.whl (798 kB)\n",
      "Installing collected packages: tiktoken\n",
      "Successfully installed tiktoken-0.6.0\n",
      "Requirement already satisfied: plotly in c:\\users\\hartm\\anaconda3\\lib\\site-packages (5.9.0)\n",
      "Requirement already satisfied: tenacity>=6.2.0 in c:\\users\\hartm\\anaconda3\\lib\\site-packages (from plotly) (8.2.2)\n",
      "Requirement already satisfied: scipy in c:\\users\\hartm\\anaconda3\\lib\\site-packages (1.11.4)\n",
      "Requirement already satisfied: numpy<1.28.0,>=1.21.6 in c:\\users\\hartm\\anaconda3\\lib\\site-packages (from scipy) (1.26.4)\n",
      "Requirement already satisfied: scikit-learn in c:\\users\\hartm\\anaconda3\\lib\\site-packages (1.2.2)\n",
      "Requirement already satisfied: numpy>=1.17.3 in c:\\users\\hartm\\anaconda3\\lib\\site-packages (from scikit-learn) (1.26.4)\n",
      "Requirement already satisfied: scipy>=1.3.2 in c:\\users\\hartm\\anaconda3\\lib\\site-packages (from scikit-learn) (1.11.4)\n",
      "Requirement already satisfied: joblib>=1.1.1 in c:\\users\\hartm\\anaconda3\\lib\\site-packages (from scikit-learn) (1.2.0)\n",
      "Requirement already satisfied: threadpoolctl>=2.0.0 in c:\\users\\hartm\\anaconda3\\lib\\site-packages (from scikit-learn) (2.2.0)\n"
     ]
    }
   ],
   "source": [
    "!pip install tiktoken\n",
    "!pip install plotly\n",
    "!pip install scipy\n",
    "!pip install scikit-learn"
   ]
  },
  {
   "cell_type": "code",
   "execution_count": 2,
   "id": "b48414ec-96e1-46f9-b9ca-1a82ed1bc33d",
   "metadata": {},
   "outputs": [
    {
     "name": "stdout",
     "output_type": "stream",
     "text": [
      "Collecting openai\n",
      "  Downloading openai-1.23.2-py3-none-any.whl.metadata (21 kB)\n",
      "Requirement already satisfied: anyio<5,>=3.5.0 in c:\\users\\hartm\\anaconda3\\lib\\site-packages (from openai) (4.2.0)\n",
      "Requirement already satisfied: distro<2,>=1.7.0 in c:\\users\\hartm\\anaconda3\\lib\\site-packages (from openai) (1.8.0)\n",
      "Collecting httpx<1,>=0.23.0 (from openai)\n",
      "  Using cached httpx-0.27.0-py3-none-any.whl.metadata (7.2 kB)\n",
      "Requirement already satisfied: pydantic<3,>=1.9.0 in c:\\users\\hartm\\anaconda3\\lib\\site-packages (from openai) (1.10.12)\n",
      "Requirement already satisfied: sniffio in c:\\users\\hartm\\anaconda3\\lib\\site-packages (from openai) (1.3.0)\n",
      "Requirement already satisfied: tqdm>4 in c:\\users\\hartm\\anaconda3\\lib\\site-packages (from openai) (4.65.0)\n",
      "Requirement already satisfied: typing-extensions<5,>=4.7 in c:\\users\\hartm\\anaconda3\\lib\\site-packages (from openai) (4.9.0)\n",
      "Requirement already satisfied: idna>=2.8 in c:\\users\\hartm\\anaconda3\\lib\\site-packages (from anyio<5,>=3.5.0->openai) (3.4)\n",
      "Requirement already satisfied: certifi in c:\\users\\hartm\\anaconda3\\lib\\site-packages (from httpx<1,>=0.23.0->openai) (2024.2.2)\n",
      "Collecting httpcore==1.* (from httpx<1,>=0.23.0->openai)\n",
      "  Using cached httpcore-1.0.5-py3-none-any.whl.metadata (20 kB)\n",
      "Collecting h11<0.15,>=0.13 (from httpcore==1.*->httpx<1,>=0.23.0->openai)\n",
      "  Using cached h11-0.14.0-py3-none-any.whl.metadata (8.2 kB)\n",
      "Requirement already satisfied: colorama in c:\\users\\hartm\\appdata\\roaming\\python\\python311\\site-packages (from tqdm>4->openai) (0.4.6)\n",
      "Downloading openai-1.23.2-py3-none-any.whl (311 kB)\n",
      "   ---------------------------------------- 0.0/311.2 kB ? eta -:--:--\n",
      "   - -------------------------------------- 10.2/311.2 kB ? eta -:--:--\n",
      "   --- ----------------------------------- 30.7/311.2 kB 330.3 kB/s eta 0:00:01\n",
      "   ----------- --------------------------- 92.2/311.2 kB 655.4 kB/s eta 0:00:01\n",
      "   ---------------------------------------- 311.2/311.2 kB 1.7 MB/s eta 0:00:00\n",
      "Using cached httpx-0.27.0-py3-none-any.whl (75 kB)\n",
      "Using cached httpcore-1.0.5-py3-none-any.whl (77 kB)\n",
      "Using cached h11-0.14.0-py3-none-any.whl (58 kB)\n",
      "Installing collected packages: h11, httpcore, httpx, openai\n",
      "Successfully installed h11-0.14.0 httpcore-1.0.5 httpx-0.27.0 openai-1.23.2\n"
     ]
    }
   ],
   "source": [
    "!pip install openai"
   ]
  },
  {
   "cell_type": "code",
   "execution_count": 3,
   "id": "dcca30be-0681-47e1-8586-8570f3846ad6",
   "metadata": {},
   "outputs": [],
   "source": [
    "import pandas as pd\n",
    "import re"
   ]
  },
  {
   "cell_type": "code",
   "execution_count": 4,
   "id": "644c10cf-da22-4ebc-8d5d-9c5419edf322",
   "metadata": {},
   "outputs": [],
   "source": [
    "def remove_newlines(text):\n",
    "    #正規表現で文字列を置換\n",
    "    #改行と連続する空白を半角スペースに変換\n",
    "    text = re.sub(r'\\n', ' ', text)\n",
    "    text = re.sub(r' +', ' ', text)\n",
    "    return text"
   ]
  },
  {
   "cell_type": "code",
   "execution_count": 5,
   "id": "0517f129-2894-4512-81e3-1c706600def5",
   "metadata": {},
   "outputs": [],
   "source": [
    "def text_to_df(data_file):\n",
    "    #\n",
    "    texts =[]\n",
    "    #utf-8でテキストファイルを開く\n",
    "    with open(data_file, 'r', encoding='utf-8') as file:\n",
    "        #すべて読み込む\n",
    "        text = file.read()\n",
    "        #改行２つを区切りに分割\n",
    "        sections = text.split('\\n\\n')\n",
    "        #項目ごと\n",
    "        for section in sections:\n",
    "            #改行で分割\n",
    "            lines = section.split('\\n')\n",
    "            #配列最初の要素に項目名（例：1. ゲストの歓迎）\n",
    "            fname = lines[0]\n",
    "            #配列１番目以降の要素すべてをつなげる\n",
    "            content = ' '.join(lines[1:])\n",
    "            #配列を追加\n",
    "            texts.append([fname, content])\n",
    "    #配列を元にデータフレーム作成\n",
    "    df = pd.DataFrame(texts, columns=['fname', 'text'])\n",
    "    #列内の改行を削除\n",
    "    df['text'] = df['text'].apply(remove_newlines)\n",
    "    #データフレームを返す\n",
    "    return df"
   ]
  },
  {
   "cell_type": "code",
   "execution_count": 6,
   "id": "ccc5a888-0e57-454c-9cc9-1367763ed64b",
   "metadata": {},
   "outputs": [],
   "source": [
    "#データ読み込み\n",
    "df = text_to_df('data.txt')\n",
    "#表をCSVに保存\n",
    "df.to_csv('scraped.csv', index=False, encoding='utf-8')"
   ]
  },
  {
   "cell_type": "code",
   "execution_count": 7,
   "id": "253f2730-336f-4fa5-a1e0-fbacd415aee0",
   "metadata": {},
   "outputs": [
    {
     "data": {
      "text/html": [
       "<div>\n",
       "<style scoped>\n",
       "    .dataframe tbody tr th:only-of-type {\n",
       "        vertical-align: middle;\n",
       "    }\n",
       "\n",
       "    .dataframe tbody tr th {\n",
       "        vertical-align: top;\n",
       "    }\n",
       "\n",
       "    .dataframe thead th {\n",
       "        text-align: right;\n",
       "    }\n",
       "</style>\n",
       "<table border=\"1\" class=\"dataframe\">\n",
       "  <thead>\n",
       "    <tr style=\"text-align: right;\">\n",
       "      <th></th>\n",
       "      <th>fname</th>\n",
       "      <th>text</th>\n",
       "    </tr>\n",
       "  </thead>\n",
       "  <tbody>\n",
       "    <tr>\n",
       "      <th>0</th>\n",
       "      <td>1. ゲストの歓迎</td>\n",
       "      <td>お客様がホテルに到着した際、フレンドリーな笑顔と共に、礼儀正しく、エネルギッシュな挨拶を心掛...</td>\n",
       "    </tr>\n",
       "    <tr>\n",
       "      <th>1</th>\n",
       "      <td>2. チェックインとチェックアウト</td>\n",
       "      <td>チェックイン時間は午後3時、チェックアウト時間は午前11時です。早めのチェックインや遅めのチ...</td>\n",
       "    </tr>\n",
       "    <tr>\n",
       "      <th>2</th>\n",
       "      <td>3. Wi-Fiと駐車場の案内</td>\n",
       "      <td>全室に無料Wi-Fiが提供されています。接続方法やパスワードについて、確実に説明できるように...</td>\n",
       "    </tr>\n",
       "    <tr>\n",
       "      <th>3</th>\n",
       "      <td>4. バリアフリー対応</td>\n",
       "      <td>ユニバーサルルームの配置や設備、特長を理解し、必要に応じてお客様に説明できるようにしましょう...</td>\n",
       "    </tr>\n",
       "    <tr>\n",
       "      <th>4</th>\n",
       "      <td>5. ペットの対応</td>\n",
       "      <td>ペット同伴のお客様に対しては、礼儀正しく、しかし明確にペットの同伴はできない旨を伝えましょう...</td>\n",
       "    </tr>\n",
       "    <tr>\n",
       "      <th>5</th>\n",
       "      <td>6. ルームサービス</td>\n",
       "      <td>午後11時までのルームサービスを提供しています。ルームサービスメニューの内容を熟知し、お客様...</td>\n",
       "    </tr>\n",
       "    <tr>\n",
       "      <th>6</th>\n",
       "      <td>7. 禁煙ポリシーと喫煙室の案内</td>\n",
       "      <td>全客室は禁煙です。しかし、喫煙者のお客様のニーズにも応えるため、喫煙室を1階に設けています。...</td>\n",
       "    </tr>\n",
       "    <tr>\n",
       "      <th>7</th>\n",
       "      <td>8. キャンセルポリシー</td>\n",
       "      <td>キャンセル料は、前日までの連絡で宿泊料金の30%、当日のキャンセルで50%、連絡なしの場合は...</td>\n",
       "    </tr>\n",
       "    <tr>\n",
       "      <th>8</th>\n",
       "      <td>9. お支払いについて</td>\n",
       "      <td>チェックアウト時にはフロントで現金、クレジットカード、デビットカードによるお支払いをお願いし...</td>\n",
       "    </tr>\n",
       "    <tr>\n",
       "      <th>9</th>\n",
       "      <td>10. 常に敬意を持つ</td>\n",
       "      <td>お客様一人一人に敬意を持って接しましょう。お客様に対する礼儀正しさ、思いやり、プロ意識は、ホ...</td>\n",
       "    </tr>\n",
       "  </tbody>\n",
       "</table>\n",
       "</div>"
      ],
      "text/plain": [
       "               fname                                               text\n",
       "0          1. ゲストの歓迎  お客様がホテルに到着した際、フレンドリーな笑顔と共に、礼儀正しく、エネルギッシュな挨拶を心掛...\n",
       "1  2. チェックインとチェックアウト  チェックイン時間は午後3時、チェックアウト時間は午前11時です。早めのチェックインや遅めのチ...\n",
       "2    3. Wi-Fiと駐車場の案内  全室に無料Wi-Fiが提供されています。接続方法やパスワードについて、確実に説明できるように...\n",
       "3        4. バリアフリー対応  ユニバーサルルームの配置や設備、特長を理解し、必要に応じてお客様に説明できるようにしましょう...\n",
       "4          5. ペットの対応  ペット同伴のお客様に対しては、礼儀正しく、しかし明確にペットの同伴はできない旨を伝えましょう...\n",
       "5         6. ルームサービス  午後11時までのルームサービスを提供しています。ルームサービスメニューの内容を熟知し、お客様...\n",
       "6   7. 禁煙ポリシーと喫煙室の案内  全客室は禁煙です。しかし、喫煙者のお客様のニーズにも応えるため、喫煙室を1階に設けています。...\n",
       "7       8. キャンセルポリシー  キャンセル料は、前日までの連絡で宿泊料金の30%、当日のキャンセルで50%、連絡なしの場合は...\n",
       "8        9. お支払いについて  チェックアウト時にはフロントで現金、クレジットカード、デビットカードによるお支払いをお願いし...\n",
       "9        10. 常に敬意を持つ  お客様一人一人に敬意を持って接しましょう。お客様に対する礼儀正しさ、思いやり、プロ意識は、ホ..."
      ]
     },
     "execution_count": 7,
     "metadata": {},
     "output_type": "execute_result"
    }
   ],
   "source": [
    "df"
   ]
  },
  {
   "cell_type": "markdown",
   "id": "83f0e4d6-41c1-4d9c-b370-0628620545e7",
   "metadata": {},
   "source": [
    "### 学習データをエンベディング"
   ]
  },
  {
   "cell_type": "code",
   "execution_count": 14,
   "id": "ff737b2f-f707-4c41-8059-3b3ba5e5600b",
   "metadata": {},
   "outputs": [
    {
     "name": "stdout",
     "output_type": "stream",
     "text": [
      "Requirement already satisfied: openai==0.28.1 in c:\\users\\hartm\\anaconda3\\lib\\site-packages (0.28.1)\n",
      "Requirement already satisfied: requests>=2.20 in c:\\users\\hartm\\anaconda3\\lib\\site-packages (from openai==0.28.1) (2.31.0)\n",
      "Requirement already satisfied: tqdm in c:\\users\\hartm\\anaconda3\\lib\\site-packages (from openai==0.28.1) (4.65.0)\n",
      "Requirement already satisfied: aiohttp in c:\\users\\hartm\\anaconda3\\lib\\site-packages (from openai==0.28.1) (3.9.3)\n",
      "Requirement already satisfied: charset-normalizer<4,>=2 in c:\\users\\hartm\\anaconda3\\lib\\site-packages (from requests>=2.20->openai==0.28.1) (2.0.4)\n",
      "Requirement already satisfied: idna<4,>=2.5 in c:\\users\\hartm\\anaconda3\\lib\\site-packages (from requests>=2.20->openai==0.28.1) (3.4)\n",
      "Requirement already satisfied: urllib3<3,>=1.21.1 in c:\\users\\hartm\\anaconda3\\lib\\site-packages (from requests>=2.20->openai==0.28.1) (2.0.7)\n",
      "Requirement already satisfied: certifi>=2017.4.17 in c:\\users\\hartm\\anaconda3\\lib\\site-packages (from requests>=2.20->openai==0.28.1) (2024.2.2)\n",
      "Requirement already satisfied: aiosignal>=1.1.2 in c:\\users\\hartm\\anaconda3\\lib\\site-packages (from aiohttp->openai==0.28.1) (1.2.0)\n",
      "Requirement already satisfied: attrs>=17.3.0 in c:\\users\\hartm\\anaconda3\\lib\\site-packages (from aiohttp->openai==0.28.1) (23.1.0)\n",
      "Requirement already satisfied: frozenlist>=1.1.1 in c:\\users\\hartm\\anaconda3\\lib\\site-packages (from aiohttp->openai==0.28.1) (1.4.0)\n",
      "Requirement already satisfied: multidict<7.0,>=4.5 in c:\\users\\hartm\\anaconda3\\lib\\site-packages (from aiohttp->openai==0.28.1) (6.0.4)\n",
      "Requirement already satisfied: yarl<2.0,>=1.0 in c:\\users\\hartm\\anaconda3\\lib\\site-packages (from aiohttp->openai==0.28.1) (1.9.3)\n",
      "Requirement already satisfied: colorama in c:\\users\\hartm\\appdata\\roaming\\python\\python311\\site-packages (from tqdm->openai==0.28.1) (0.4.6)\n"
     ]
    }
   ],
   "source": [
    "#!pip uninstall openai\n",
    "!pip install openai==0.28.1"
   ]
  },
  {
   "cell_type": "code",
   "execution_count": 21,
   "id": "fd7f917e-85ac-4951-aacd-4c5e4065d884",
   "metadata": {},
   "outputs": [
    {
     "name": "stdout",
     "output_type": "stream",
     "text": [
      "Requirement already satisfied: matplotlib in c:\\users\\hartm\\anaconda3\\lib\\site-packages (3.8.0)\n",
      "Requirement already satisfied: contourpy>=1.0.1 in c:\\users\\hartm\\anaconda3\\lib\\site-packages (from matplotlib) (1.2.0)\n",
      "Requirement already satisfied: cycler>=0.10 in c:\\users\\hartm\\anaconda3\\lib\\site-packages (from matplotlib) (0.11.0)\n",
      "Requirement already satisfied: fonttools>=4.22.0 in c:\\users\\hartm\\anaconda3\\lib\\site-packages (from matplotlib) (4.25.0)\n",
      "Requirement already satisfied: kiwisolver>=1.0.1 in c:\\users\\hartm\\anaconda3\\lib\\site-packages (from matplotlib) (1.4.4)\n",
      "Requirement already satisfied: numpy<2,>=1.21 in c:\\users\\hartm\\anaconda3\\lib\\site-packages (from matplotlib) (1.26.4)\n",
      "Requirement already satisfied: packaging>=20.0 in c:\\users\\hartm\\anaconda3\\lib\\site-packages (from matplotlib) (23.2)\n",
      "Requirement already satisfied: pillow>=6.2.0 in c:\\users\\hartm\\anaconda3\\lib\\site-packages (from matplotlib) (10.2.0)\n",
      "Requirement already satisfied: pyparsing>=2.3.1 in c:\\users\\hartm\\anaconda3\\lib\\site-packages (from matplotlib) (3.0.9)\n",
      "Requirement already satisfied: python-dateutil>=2.7 in c:\\users\\hartm\\appdata\\roaming\\python\\python311\\site-packages (from matplotlib) (2.8.2)\n",
      "Requirement already satisfied: six>=1.5 in c:\\users\\hartm\\appdata\\roaming\\python\\python311\\site-packages (from python-dateutil>=2.7->matplotlib) (1.16.0)\n"
     ]
    }
   ],
   "source": [
    "!pip install matplotlib"
   ]
  },
  {
   "cell_type": "code",
   "execution_count": 8,
   "id": "a4061541-2f54-42c4-9ddc-a901448b0e97",
   "metadata": {},
   "outputs": [],
   "source": [
    "import matplotlib.pyplot as plt"
   ]
  },
  {
   "cell_type": "code",
   "execution_count": 6,
   "id": "ce9c18eb-8d59-46ac-9d6e-1082bcab2bf1",
   "metadata": {},
   "outputs": [],
   "source": [
    "import pandas as pd\n",
    "import tiktoken\n",
    "#from openai.embeddings_utils import get_embedding"
   ]
  },
  {
   "cell_type": "code",
   "execution_count": 7,
   "id": "586af2bf-4295-43b1-915b-bd2a2d3b0449",
   "metadata": {},
   "outputs": [],
   "source": [
    "embedding_model = \"text-embedding-ada-002\"\n",
    "embedding_encoding = \"cl100k_base\"\n",
    "max_tokens = 1500\n",
    "\n",
    "df = pd.read_csv('scraped.csv')\n",
    "df.columns = ['title', 'text']\n",
    "\n",
    "tokenizer = tiktoken.get_encoding(embedding_encoding)\n",
    "df['n_tokens'] = df.text.apply(lambda x: len(tokenizer.encode(x)))\n",
    "\n"
   ]
  },
  {
   "cell_type": "code",
   "execution_count": 8,
   "id": "ac5f51a4-4016-4c3a-8629-50e2759023d6",
   "metadata": {},
   "outputs": [],
   "source": [
    "def split_into_many(text, max_tokens = 500):\n",
    "    #\n",
    "    sentences = text.split('。')\n",
    "    n_tokens = [len(tokenizer.encode(\" \" + sentence)) for sentence in sentences]\n",
    "    #\n",
    "    chunks = []\n",
    "    tokens_so_far = 0\n",
    "    chunk = []\n",
    "    #\n",
    "    for sentence, token in zip(sentences, n_tokens):\n",
    "        #\n",
    "        if tokens_so_far + token > max_tokens:\n",
    "            chunks.append(\". \".join(chunk) + \".\")\n",
    "            chunk = []\n",
    "            tokens_so_far = 0\n",
    "        #\n",
    "        if token > max_tokens:\n",
    "            continue\n",
    "\n",
    "        chunk.append(sentence)\n",
    "        tokens_so_far += token + 1\n",
    "\n",
    "    if chunk:\n",
    "        chunks.append(\". \".join(chunk) + \".\")\n",
    "    #    \n",
    "    return chunks"
   ]
  },
  {
   "cell_type": "code",
   "execution_count": null,
   "id": "0c4b9e50-72a0-40e9-9f0d-3b26b7661976",
   "metadata": {},
   "outputs": [],
   "source": [
    "#\n",
    "shortened = []\n",
    "\n",
    "#\n",
    "for row in df.iterrows():\n",
    "    #\n",
    "    if row[1]['text'] is None:\n",
    "        continue\n",
    "\n",
    "    #\n",
    "    if row[1]['n_tokens'] > max_tokens:\n",
    "        shortened += split_into_many(row[1]['text'])\n",
    "\n",
    "    #\n",
    "    else:\n",
    "        #\n",
    "        shortened.append(row[1]['text'])\n",
    "\n",
    "#\n",
    "df['n_tokens'] = df.text.apply(lambda x: get_embedding(x, engine=embedding_model))\n",
    "#\n",
    "df.to_csv('embedding.csv')"
   ]
  },
  {
   "cell_type": "code",
   "execution_count": null,
   "id": "9325552a-50eb-4b11-99ca-589c96d532b1",
   "metadata": {},
   "outputs": [],
   "source": []
  }
 ],
 "metadata": {
  "kernelspec": {
   "display_name": "Python 3 (ipykernel)",
   "language": "python",
   "name": "python3"
  },
  "language_info": {
   "codemirror_mode": {
    "name": "ipython",
    "version": 3
   },
   "file_extension": ".py",
   "mimetype": "text/x-python",
   "name": "python",
   "nbconvert_exporter": "python",
   "pygments_lexer": "ipython3",
   "version": "3.11.7"
  }
 },
 "nbformat": 4,
 "nbformat_minor": 5
}
